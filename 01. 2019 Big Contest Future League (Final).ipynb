{
 "cells": [
  {
   "cell_type": "markdown",
   "metadata": {},
   "source": [
    "---\n",
    "\n",
    "## Load Library and Set Option"
   ]
  },
  {
   "cell_type": "markdown",
   "metadata": {},
   "source": [
    "### Library"
   ]
  },
  {
   "cell_type": "code",
   "execution_count": 89,
   "metadata": {
    "ExecuteTime": {
     "end_time": "2019-09-08T14:47:43.760781Z",
     "start_time": "2019-09-08T14:47:43.679336Z"
    }
   },
   "outputs": [],
   "source": [
    "# 데이터 분석 기본 라이브러리 관련\n",
    "import os\n",
    "import sys\n",
    "import warnings\n",
    "import numpy as np\n",
    "import pandas as pd\n",
    "\n",
    "# EDA 관련\n",
    "import seaborn as sns\n",
    "import matplotlib as mpl\n",
    "import matplotlib.pyplot as plt\n",
    "import missingno as msno\n",
    "\n",
    "# 데이터 전처리 관련\n",
    "import tqdm\n",
    "from datetime import datetime\n",
    "from sklearn.model_selection import train_test_split\n",
    "from imblearn.over_sampling import SMOTE\n",
    "from sklearn.preprocessing import LabelEncoder\n",
    "\n",
    "# 머신러닝 모델 관련\n",
    "from sklearn.ensemble import RandomForestClassifier  # RandomForest\n",
    "from xgboost import XGBClassifier  # XGBoost\n",
    "#from lightgbm import LGBMClassifier  # LightGBM\n",
    "\n",
    "# 평가 지표 관련\n",
    "from sklearn.metrics import confusion_matrix  # 오차행렬\n",
    "from sklearn.metrics import accuracy_score  # 정확도\n",
    "from sklearn.metrics import precision_score  # 정밀도\n",
    "from sklearn.metrics import recall_score  # 재현율\n",
    "from sklearn.metrics import roc_auc_score  # auc score\n",
    "from sklearn.metrics import f1_score"
   ]
  },
  {
   "cell_type": "markdown",
   "metadata": {},
   "source": [
    "### Options"
   ]
  },
  {
   "cell_type": "code",
   "execution_count": 90,
   "metadata": {
    "ExecuteTime": {
     "end_time": "2019-09-08T14:47:44.107254Z",
     "start_time": "2019-09-08T14:47:44.053077Z"
    }
   },
   "outputs": [],
   "source": [
    "warnings.filterwarnings(action='ignore')\n",
    "pd.set_option('display.max_columns', 100)\n",
    "mpl.rcParams['font.family'] = 'Malgun Gothic'\n",
    "mpl.rcParams['axes.unicode_minus'] = False\n",
    "plt.style.use('ggplot')"
   ]
  },
  {
   "cell_type": "markdown",
   "metadata": {},
   "source": [
    "---\n",
    "\n",
    "## Exploratory Data Analysis, EDA"
   ]
  },
  {
   "cell_type": "markdown",
   "metadata": {},
   "source": [
    "### Load data\n",
    "\n",
    "#### AFSNT.CSV 불러오기"
   ]
  },
  {
   "cell_type": "code",
   "execution_count": 91,
   "metadata": {
    "ExecuteTime": {
     "end_time": "2019-09-08T14:47:46.879197Z",
     "start_time": "2019-09-08T14:47:44.500295Z"
    },
    "scrolled": true
   },
   "outputs": [
    {
     "data": {
      "text/html": [
       "<div>\n",
       "<style scoped>\n",
       "    .dataframe tbody tr th:only-of-type {\n",
       "        vertical-align: middle;\n",
       "    }\n",
       "\n",
       "    .dataframe tbody tr th {\n",
       "        vertical-align: top;\n",
       "    }\n",
       "\n",
       "    .dataframe thead th {\n",
       "        text-align: right;\n",
       "    }\n",
       "</style>\n",
       "<table border=\"1\" class=\"dataframe\">\n",
       "  <thead>\n",
       "    <tr style=\"text-align: right;\">\n",
       "      <th></th>\n",
       "      <th>연</th>\n",
       "      <th>월</th>\n",
       "      <th>일</th>\n",
       "      <th>요일</th>\n",
       "      <th>공항</th>\n",
       "      <th>상대공항</th>\n",
       "      <th>항공사</th>\n",
       "      <th>편명</th>\n",
       "      <th>등록기호</th>\n",
       "      <th>출도착</th>\n",
       "      <th>부정기편</th>\n",
       "      <th>계획시각</th>\n",
       "      <th>실제시각</th>\n",
       "      <th>지연여부</th>\n",
       "      <th>지연사유</th>\n",
       "      <th>결항여부</th>\n",
       "      <th>결항사유</th>\n",
       "    </tr>\n",
       "  </thead>\n",
       "  <tbody>\n",
       "    <tr>\n",
       "      <th>0</th>\n",
       "      <td>2017</td>\n",
       "      <td>1</td>\n",
       "      <td>1</td>\n",
       "      <td>일</td>\n",
       "      <td>ARP3</td>\n",
       "      <td>ARP6</td>\n",
       "      <td>J</td>\n",
       "      <td>J1955</td>\n",
       "      <td>SEw3NzE4</td>\n",
       "      <td>D</td>\n",
       "      <td>N</td>\n",
       "      <td>10:05</td>\n",
       "      <td>10:32</td>\n",
       "      <td>N</td>\n",
       "      <td>NaN</td>\n",
       "      <td>N</td>\n",
       "      <td>NaN</td>\n",
       "    </tr>\n",
       "    <tr>\n",
       "      <th>1</th>\n",
       "      <td>2017</td>\n",
       "      <td>1</td>\n",
       "      <td>1</td>\n",
       "      <td>일</td>\n",
       "      <td>ARP3</td>\n",
       "      <td>ARP6</td>\n",
       "      <td>J</td>\n",
       "      <td>J1954</td>\n",
       "      <td>SEw3NzE4</td>\n",
       "      <td>A</td>\n",
       "      <td>N</td>\n",
       "      <td>9:30</td>\n",
       "      <td>9:31</td>\n",
       "      <td>N</td>\n",
       "      <td>NaN</td>\n",
       "      <td>N</td>\n",
       "      <td>NaN</td>\n",
       "    </tr>\n",
       "    <tr>\n",
       "      <th>2</th>\n",
       "      <td>2017</td>\n",
       "      <td>1</td>\n",
       "      <td>1</td>\n",
       "      <td>일</td>\n",
       "      <td>ARP3</td>\n",
       "      <td>ARP6</td>\n",
       "      <td>J</td>\n",
       "      <td>J1956</td>\n",
       "      <td>SEw3NzE4</td>\n",
       "      <td>A</td>\n",
       "      <td>N</td>\n",
       "      <td>12:45</td>\n",
       "      <td>13:03</td>\n",
       "      <td>N</td>\n",
       "      <td>NaN</td>\n",
       "      <td>N</td>\n",
       "      <td>NaN</td>\n",
       "    </tr>\n",
       "    <tr>\n",
       "      <th>3</th>\n",
       "      <td>2017</td>\n",
       "      <td>1</td>\n",
       "      <td>1</td>\n",
       "      <td>일</td>\n",
       "      <td>ARP3</td>\n",
       "      <td>ARP6</td>\n",
       "      <td>J</td>\n",
       "      <td>J1957</td>\n",
       "      <td>SEw3NzE4</td>\n",
       "      <td>D</td>\n",
       "      <td>N</td>\n",
       "      <td>13:25</td>\n",
       "      <td>14:09</td>\n",
       "      <td>Y</td>\n",
       "      <td>C02</td>\n",
       "      <td>N</td>\n",
       "      <td>NaN</td>\n",
       "    </tr>\n",
       "    <tr>\n",
       "      <th>4</th>\n",
       "      <td>2017</td>\n",
       "      <td>1</td>\n",
       "      <td>1</td>\n",
       "      <td>일</td>\n",
       "      <td>ARP3</td>\n",
       "      <td>ARP6</td>\n",
       "      <td>J</td>\n",
       "      <td>J1958</td>\n",
       "      <td>SEw3NzE4</td>\n",
       "      <td>A</td>\n",
       "      <td>N</td>\n",
       "      <td>16:10</td>\n",
       "      <td>16:31</td>\n",
       "      <td>N</td>\n",
       "      <td>NaN</td>\n",
       "      <td>N</td>\n",
       "      <td>NaN</td>\n",
       "    </tr>\n",
       "  </tbody>\n",
       "</table>\n",
       "</div>"
      ],
      "text/plain": [
       "      연  월  일 요일    공항  상대공항 항공사     편명      등록기호 출도착 부정기편   계획시각   실제시각 지연여부  \\\n",
       "0  2017  1  1  일  ARP3  ARP6   J  J1955  SEw3NzE4   D    N  10:05  10:32    N   \n",
       "1  2017  1  1  일  ARP3  ARP6   J  J1954  SEw3NzE4   A    N   9:30   9:31    N   \n",
       "2  2017  1  1  일  ARP3  ARP6   J  J1956  SEw3NzE4   A    N  12:45  13:03    N   \n",
       "3  2017  1  1  일  ARP3  ARP6   J  J1957  SEw3NzE4   D    N  13:25  14:09    Y   \n",
       "4  2017  1  1  일  ARP3  ARP6   J  J1958  SEw3NzE4   A    N  16:10  16:31    N   \n",
       "\n",
       "  지연사유 결항여부 결항사유  \n",
       "0  NaN    N  NaN  \n",
       "1  NaN    N  NaN  \n",
       "2  NaN    N  NaN  \n",
       "3  C02    N  NaN  \n",
       "4  NaN    N  NaN  "
      ]
     },
     "execution_count": 91,
     "metadata": {},
     "output_type": "execute_result"
    }
   ],
   "source": [
    "# 2017.01.01 ~ 2019.06.30 운항실적 데이터\n",
    "# 이게 사실상 학습데이터(train data)\n",
    "data_AFSNT = pd.read_csv('data/AFSNT.CSV',\n",
    "                         encoding='cp949',\n",
    "                         header=0)\n",
    "data_AFSNT.columns = ['연', '월', '일', '요일', '공항', '상대공항',\n",
    "                      '항공사', '편명', '등록기호', '출도착', '부정기편',\n",
    "                      '계획시각', '실제시각', '지연여부', '지연사유', '결항여부', '결항사유']\n",
    "data_AFSNT.head()"
   ]
  },
  {
   "cell_type": "markdown",
   "metadata": {},
   "source": [
    "#### AFSNT_DLY.CSV 불러오기"
   ]
  },
  {
   "cell_type": "code",
   "execution_count": 92,
   "metadata": {
    "ExecuteTime": {
     "end_time": "2019-09-08T14:47:46.970481Z",
     "start_time": "2019-09-08T14:47:46.881391Z"
    },
    "scrolled": true
   },
   "outputs": [
    {
     "data": {
      "text/html": [
       "<div>\n",
       "<style scoped>\n",
       "    .dataframe tbody tr th:only-of-type {\n",
       "        vertical-align: middle;\n",
       "    }\n",
       "\n",
       "    .dataframe tbody tr th {\n",
       "        vertical-align: top;\n",
       "    }\n",
       "\n",
       "    .dataframe thead th {\n",
       "        text-align: right;\n",
       "    }\n",
       "</style>\n",
       "<table border=\"1\" class=\"dataframe\">\n",
       "  <thead>\n",
       "    <tr style=\"text-align: right;\">\n",
       "      <th></th>\n",
       "      <th>연</th>\n",
       "      <th>월</th>\n",
       "      <th>일</th>\n",
       "      <th>요일</th>\n",
       "      <th>공항</th>\n",
       "      <th>상대공항</th>\n",
       "      <th>항공사</th>\n",
       "      <th>편명</th>\n",
       "      <th>출도착</th>\n",
       "      <th>계획시각</th>\n",
       "      <th>지연여부</th>\n",
       "      <th>지연확률</th>\n",
       "    </tr>\n",
       "  </thead>\n",
       "  <tbody>\n",
       "    <tr>\n",
       "      <th>0</th>\n",
       "      <td>2019</td>\n",
       "      <td>9</td>\n",
       "      <td>16</td>\n",
       "      <td>월</td>\n",
       "      <td>ARP1</td>\n",
       "      <td>ARP3</td>\n",
       "      <td>L</td>\n",
       "      <td>L1702</td>\n",
       "      <td>A</td>\n",
       "      <td>9:05</td>\n",
       "      <td>NaN</td>\n",
       "      <td>NaN</td>\n",
       "    </tr>\n",
       "    <tr>\n",
       "      <th>1</th>\n",
       "      <td>2019</td>\n",
       "      <td>9</td>\n",
       "      <td>16</td>\n",
       "      <td>월</td>\n",
       "      <td>ARP3</td>\n",
       "      <td>ARP1</td>\n",
       "      <td>L</td>\n",
       "      <td>L1702</td>\n",
       "      <td>D</td>\n",
       "      <td>7:55</td>\n",
       "      <td>NaN</td>\n",
       "      <td>NaN</td>\n",
       "    </tr>\n",
       "    <tr>\n",
       "      <th>2</th>\n",
       "      <td>2019</td>\n",
       "      <td>9</td>\n",
       "      <td>16</td>\n",
       "      <td>월</td>\n",
       "      <td>ARP1</td>\n",
       "      <td>ARP3</td>\n",
       "      <td>L</td>\n",
       "      <td>L1720</td>\n",
       "      <td>A</td>\n",
       "      <td>14:40</td>\n",
       "      <td>NaN</td>\n",
       "      <td>NaN</td>\n",
       "    </tr>\n",
       "    <tr>\n",
       "      <th>3</th>\n",
       "      <td>2019</td>\n",
       "      <td>9</td>\n",
       "      <td>16</td>\n",
       "      <td>월</td>\n",
       "      <td>ARP3</td>\n",
       "      <td>ARP1</td>\n",
       "      <td>L</td>\n",
       "      <td>L1720</td>\n",
       "      <td>D</td>\n",
       "      <td>13:30</td>\n",
       "      <td>NaN</td>\n",
       "      <td>NaN</td>\n",
       "    </tr>\n",
       "    <tr>\n",
       "      <th>4</th>\n",
       "      <td>2019</td>\n",
       "      <td>9</td>\n",
       "      <td>16</td>\n",
       "      <td>월</td>\n",
       "      <td>ARP4</td>\n",
       "      <td>ARP3</td>\n",
       "      <td>L</td>\n",
       "      <td>L1808</td>\n",
       "      <td>A</td>\n",
       "      <td>20:10</td>\n",
       "      <td>NaN</td>\n",
       "      <td>NaN</td>\n",
       "    </tr>\n",
       "  </tbody>\n",
       "</table>\n",
       "</div>"
      ],
      "text/plain": [
       "      연  월   일 요일    공항  상대공항 항공사     편명 출도착   계획시각  지연여부  지연확률\n",
       "0  2019  9  16  월  ARP1  ARP3   L  L1702   A   9:05   NaN   NaN\n",
       "1  2019  9  16  월  ARP3  ARP1   L  L1702   D   7:55   NaN   NaN\n",
       "2  2019  9  16  월  ARP1  ARP3   L  L1720   A  14:40   NaN   NaN\n",
       "3  2019  9  16  월  ARP3  ARP1   L  L1720   D  13:30   NaN   NaN\n",
       "4  2019  9  16  월  ARP4  ARP3   L  L1808   A  20:10   NaN   NaN"
      ]
     },
     "execution_count": 92,
     "metadata": {},
     "output_type": "execute_result"
    }
   ],
   "source": [
    "# 2019.09.16 ~ 2019.09.30 지연율 계산\n",
    "# 이게 사실상 시험데이터(test data)\n",
    "# 실제로 이걸 나중에 예측해야함\n",
    "data_AFSNT_DLY = pd.read_csv('data/AFSNT_DLY.CSV',\n",
    "                             encoding='cp949',\n",
    "                             header=0,\n",
    "                             names=['연', '월', '일', '요일', '공항', '상대공항',\n",
    "                                    '항공사', '편명', '출도착', '계획시각', '지연여부', '지연확률'])\n",
    "data_AFSNT_DLY.head()"
   ]
  },
  {
   "cell_type": "markdown",
   "metadata": {},
   "source": [
    "#### SFSNT.CSV 불러오기"
   ]
  },
  {
   "cell_type": "code",
   "execution_count": 93,
   "metadata": {
    "ExecuteTime": {
     "end_time": "2019-09-08T14:47:47.007045Z",
     "start_time": "2019-09-08T14:47:46.972962Z"
    },
    "scrolled": true
   },
   "outputs": [
    {
     "data": {
      "text/html": [
       "<div>\n",
       "<style scoped>\n",
       "    .dataframe tbody tr th:only-of-type {\n",
       "        vertical-align: middle;\n",
       "    }\n",
       "\n",
       "    .dataframe tbody tr th {\n",
       "        vertical-align: top;\n",
       "    }\n",
       "\n",
       "    .dataframe thead th {\n",
       "        text-align: right;\n",
       "    }\n",
       "</style>\n",
       "<table border=\"1\" class=\"dataframe\">\n",
       "  <thead>\n",
       "    <tr style=\"text-align: right;\">\n",
       "      <th></th>\n",
       "      <th>시즌코드</th>\n",
       "      <th>편명</th>\n",
       "      <th>공항</th>\n",
       "      <th>상대공항</th>\n",
       "      <th>출발시각</th>\n",
       "      <th>도착시각</th>\n",
       "      <th>항공사</th>\n",
       "      <th>월</th>\n",
       "      <th>화</th>\n",
       "      <th>수</th>\n",
       "      <th>목</th>\n",
       "      <th>금</th>\n",
       "      <th>토</th>\n",
       "      <th>일</th>\n",
       "      <th>시작일자</th>\n",
       "      <th>종료일자</th>\n",
       "      <th>부정기편</th>\n",
       "    </tr>\n",
       "  </thead>\n",
       "  <tbody>\n",
       "    <tr>\n",
       "      <th>0</th>\n",
       "      <td>S19</td>\n",
       "      <td>A1915</td>\n",
       "      <td>ARP1</td>\n",
       "      <td>ARP3</td>\n",
       "      <td>7:55</td>\n",
       "      <td>9:05</td>\n",
       "      <td>A</td>\n",
       "      <td>Y</td>\n",
       "      <td>Y</td>\n",
       "      <td>Y</td>\n",
       "      <td>Y</td>\n",
       "      <td>Y</td>\n",
       "      <td>Y</td>\n",
       "      <td>Y</td>\n",
       "      <td>20190331</td>\n",
       "      <td>20191026</td>\n",
       "      <td>N</td>\n",
       "    </tr>\n",
       "    <tr>\n",
       "      <th>1</th>\n",
       "      <td>S19</td>\n",
       "      <td>A1904</td>\n",
       "      <td>ARP3</td>\n",
       "      <td>ARP1</td>\n",
       "      <td>7:55</td>\n",
       "      <td>9:05</td>\n",
       "      <td>A</td>\n",
       "      <td>Y</td>\n",
       "      <td>Y</td>\n",
       "      <td>Y</td>\n",
       "      <td>Y</td>\n",
       "      <td>Y</td>\n",
       "      <td>Y</td>\n",
       "      <td>Y</td>\n",
       "      <td>20190331</td>\n",
       "      <td>20191026</td>\n",
       "      <td>N</td>\n",
       "    </tr>\n",
       "    <tr>\n",
       "      <th>2</th>\n",
       "      <td>S19</td>\n",
       "      <td>I1304</td>\n",
       "      <td>ARP3</td>\n",
       "      <td>ARP1</td>\n",
       "      <td>8:00</td>\n",
       "      <td>9:15</td>\n",
       "      <td>I</td>\n",
       "      <td>Y</td>\n",
       "      <td>NaN</td>\n",
       "      <td>Y</td>\n",
       "      <td>Y</td>\n",
       "      <td>Y</td>\n",
       "      <td>NaN</td>\n",
       "      <td>Y</td>\n",
       "      <td>20190331</td>\n",
       "      <td>20191026</td>\n",
       "      <td>N</td>\n",
       "    </tr>\n",
       "    <tr>\n",
       "      <th>3</th>\n",
       "      <td>S19</td>\n",
       "      <td>B1802</td>\n",
       "      <td>ARP2</td>\n",
       "      <td>ARP1</td>\n",
       "      <td>8:00</td>\n",
       "      <td>8:55</td>\n",
       "      <td>B</td>\n",
       "      <td>Y</td>\n",
       "      <td>Y</td>\n",
       "      <td>Y</td>\n",
       "      <td>Y</td>\n",
       "      <td>Y</td>\n",
       "      <td>Y</td>\n",
       "      <td>Y</td>\n",
       "      <td>20190331</td>\n",
       "      <td>20191026</td>\n",
       "      <td>N</td>\n",
       "    </tr>\n",
       "    <tr>\n",
       "      <th>4</th>\n",
       "      <td>S19</td>\n",
       "      <td>J1106</td>\n",
       "      <td>ARP1</td>\n",
       "      <td>ARP2</td>\n",
       "      <td>8:00</td>\n",
       "      <td>9:05</td>\n",
       "      <td>J</td>\n",
       "      <td>NaN</td>\n",
       "      <td>Y</td>\n",
       "      <td>Y</td>\n",
       "      <td>NaN</td>\n",
       "      <td>Y</td>\n",
       "      <td>Y</td>\n",
       "      <td>NaN</td>\n",
       "      <td>20190730</td>\n",
       "      <td>20190824</td>\n",
       "      <td>N</td>\n",
       "    </tr>\n",
       "  </tbody>\n",
       "</table>\n",
       "</div>"
      ],
      "text/plain": [
       "  시즌코드     편명    공항  상대공항  출발시각  도착시각 항공사    월    화  수    목  금    토    일  \\\n",
       "0  S19  A1915  ARP1  ARP3  7:55  9:05   A    Y    Y  Y    Y  Y    Y    Y   \n",
       "1  S19  A1904  ARP3  ARP1  7:55  9:05   A    Y    Y  Y    Y  Y    Y    Y   \n",
       "2  S19  I1304  ARP3  ARP1  8:00  9:15   I    Y  NaN  Y    Y  Y  NaN    Y   \n",
       "3  S19  B1802  ARP2  ARP1  8:00  8:55   B    Y    Y  Y    Y  Y    Y    Y   \n",
       "4  S19  J1106  ARP1  ARP2  8:00  9:05   J  NaN    Y  Y  NaN  Y    Y  NaN   \n",
       "\n",
       "       시작일자      종료일자 부정기편  \n",
       "0  20190331  20191026    N  \n",
       "1  20190331  20191026    N  \n",
       "2  20190331  20191026    N  \n",
       "3  20190331  20191026    N  \n",
       "4  20190730  20190824    N  "
      ]
     },
     "execution_count": 93,
     "metadata": {},
     "output_type": "execute_result"
    }
   ],
   "source": [
    "# 2019년 하계 스케쥴 중 7월 ~ 9월이 포함된 시즌데이터\n",
    "data_SFSNT = pd.read_csv('data/SFSNT.CSV',\n",
    "                         encoding='cp949',\n",
    "                         header=0,\n",
    "                         names=['시즌코드', '편명', '공항', '상대공항', '출발시각', '도착시각', '항공사',\n",
    "                                '월', '화', '수', '목', '금', '토', '일', '시작일자', '종료일자', '부정기편'])\n",
    "data_SFSNT.head()"
   ]
  },
  {
   "cell_type": "markdown",
   "metadata": {},
   "source": [
    "### Data Dictionary"
   ]
  },
  {
   "cell_type": "code",
   "execution_count": 94,
   "metadata": {
    "ExecuteTime": {
     "end_time": "2019-09-08T14:47:47.017091Z",
     "start_time": "2019-09-08T14:47:47.010060Z"
    }
   },
   "outputs": [],
   "source": [
    "ARP_name = {\n",
    "    'ARP1': '김포', 'ARP2': '김해', 'ARP3': '제주',\n",
    "    'ARP4': '광주', 'ARP5': '인천', 'ARP6': '청주',\n",
    "    'ARP7': '무안', 'ARP8': '대구', 'ARP9': '여수',\n",
    "    'ARP10': '양양', 'ARP11': '포항', 'ARP12': '사천',\n",
    "    'ARP13': '군산', 'ARP14': '원주', 'ARP15': '울산'\n",
    "}"
   ]
  },
  {
   "cell_type": "code",
   "execution_count": 95,
   "metadata": {
    "ExecuteTime": {
     "end_time": "2019-09-08T14:47:47.023921Z",
     "start_time": "2019-09-08T14:47:47.019197Z"
    }
   },
   "outputs": [],
   "source": [
    "FLO_name = {\n",
    "    'A': '아시아나', 'B': '에어부산', 'C': '기타',\n",
    "    'D': '기타', 'E': '기타', 'F': '이스타항공',\n",
    "    'G': '기타', 'H': '제주항공', 'I': '진에어',\n",
    "    'J': '대한항공', 'K': '기타', 'L': '티웨이항공',\n",
    "    'M': '기타'\n",
    "}"
   ]
  },
  {
   "cell_type": "code",
   "execution_count": 96,
   "metadata": {
    "ExecuteTime": {
     "end_time": "2019-09-08T14:47:47.043058Z",
     "start_time": "2019-09-08T14:47:47.025682Z"
    }
   },
   "outputs": [],
   "source": [
    "delay_code = {  # WEATHER : 기상관련 지연\n",
    "    'A01': '안개', 'A02': '강설', 'A03': '강우',\n",
    "    'A04': '태풍', 'A05': '강풍', 'A06': '상층풍',\n",
    "    'A07': '운고', 'A08': '기상-황사', 'A09': '기상-항로',\n",
    "    'A10': '기상-뇌우', 'A99': '기상-기타',\n",
    "\n",
    "    # AIRPORT AND GOVERNMENTAL AUTHORITIES : 공항 및 정부기관 인허가 관련 지연\n",
    "    'B01': '계류장혼잡', 'B02': '사고', 'B03': '활주로사정',\n",
    "    'B04': '행사', 'B05': '항행시설고장', 'B06': '공항폐쇄',\n",
    "    'B07': '이륙대기', 'B08': 'Curfew',\n",
    "\n",
    "    # TECHNICAL AND AIRCRAFT EQUIPMENT : 기술, 항공기 장비로 인한 지연\n",
    "    # FLIGHT OPERATIONS AND CREWING : 항공기 운항 및 승무원으로 인한 지연\n",
    "    'C01': 'A/C 정비', 'C02': 'A/C 접속', 'C03': '승객접속',\n",
    "    'C04': '여객처리', 'C05': '지상조업', 'C06': 'SKD변경',\n",
    "    'C07': '항공기부족', 'C08': '연료재급유', 'C09': '환자',\n",
    "    'C10': '제방빙작업', 'C11': '보안검색', 'C12': '조종사자격',\n",
    "    'C13': '승무원휴식', 'C14': '승무원연결', 'C15': '화물탑재',\n",
    "    'C16': '화물연결', 'C17': '화물수요부족',\n",
    "\n",
    "    # 그외\n",
    "    'D01': '항로혼잡', 'D02': '영공통과불허',\n",
    "    'Z01': '복합원인', 'Z99': '기타'\n",
    "}"
   ]
  },
  {
   "cell_type": "markdown",
   "metadata": {},
   "source": [
    "### Check the size of data"
   ]
  },
  {
   "cell_type": "code",
   "execution_count": 97,
   "metadata": {
    "ExecuteTime": {
     "end_time": "2019-09-08T14:47:47.050578Z",
     "start_time": "2019-09-08T14:47:47.045525Z"
    }
   },
   "outputs": [
    {
     "data": {
      "text/plain": [
       "(987709, 17)"
      ]
     },
     "execution_count": 97,
     "metadata": {},
     "output_type": "execute_result"
    }
   ],
   "source": [
    "# AFSNT.CSV 관련\n",
    "data_AFSNT.shape"
   ]
  },
  {
   "cell_type": "code",
   "execution_count": 98,
   "metadata": {
    "ExecuteTime": {
     "end_time": "2019-09-08T14:47:47.058749Z",
     "start_time": "2019-09-08T14:47:47.053919Z"
    }
   },
   "outputs": [
    {
     "data": {
      "text/plain": [
       "(16076, 12)"
      ]
     },
     "execution_count": 98,
     "metadata": {},
     "output_type": "execute_result"
    }
   ],
   "source": [
    "# AFSNT_DLY.CSV 관련\n",
    "data_AFSNT_DLY.shape"
   ]
  },
  {
   "cell_type": "code",
   "execution_count": 99,
   "metadata": {
    "ExecuteTime": {
     "end_time": "2019-09-08T14:47:47.065532Z",
     "start_time": "2019-09-08T14:47:47.060931Z"
    }
   },
   "outputs": [
    {
     "data": {
      "text/plain": [
       "(1186, 17)"
      ]
     },
     "execution_count": 99,
     "metadata": {},
     "output_type": "execute_result"
    }
   ],
   "source": [
    "# SFSNT.CSV 관련\n",
    "data_SFSNT.shape"
   ]
  },
  {
   "cell_type": "markdown",
   "metadata": {},
   "source": [
    "### Check missing values"
   ]
  },
  {
   "cell_type": "markdown",
   "metadata": {},
   "source": [
    "#### AFSNT"
   ]
  },
  {
   "cell_type": "code",
   "execution_count": 100,
   "metadata": {
    "ExecuteTime": {
     "end_time": "2019-09-08T14:47:47.690924Z",
     "start_time": "2019-09-08T14:47:47.067854Z"
    }
   },
   "outputs": [
    {
     "data": {
      "text/plain": [
       "연            0\n",
       "월            0\n",
       "일            0\n",
       "요일           0\n",
       "공항           0\n",
       "상대공항         0\n",
       "항공사          0\n",
       "편명           0\n",
       "등록기호      8263\n",
       "출도착          0\n",
       "부정기편         0\n",
       "계획시각         0\n",
       "실제시각         0\n",
       "지연여부         0\n",
       "지연사유    868772\n",
       "결항여부         0\n",
       "결항사유    979450\n",
       "dtype: int64"
      ]
     },
     "execution_count": 100,
     "metadata": {},
     "output_type": "execute_result"
    }
   ],
   "source": [
    "data_AFSNT.isnull().sum()"
   ]
  },
  {
   "cell_type": "code",
   "execution_count": 101,
   "metadata": {
    "ExecuteTime": {
     "end_time": "2019-09-08T14:47:48.271881Z",
     "start_time": "2019-09-08T14:47:47.693719Z"
    }
   },
   "outputs": [
    {
     "data": {
      "text/html": [
       "<div>\n",
       "<style scoped>\n",
       "    .dataframe tbody tr th:only-of-type {\n",
       "        vertical-align: middle;\n",
       "    }\n",
       "\n",
       "    .dataframe tbody tr th {\n",
       "        vertical-align: top;\n",
       "    }\n",
       "\n",
       "    .dataframe thead th {\n",
       "        text-align: right;\n",
       "    }\n",
       "</style>\n",
       "<table border=\"1\" class=\"dataframe\">\n",
       "  <thead>\n",
       "    <tr style=\"text-align: right;\">\n",
       "      <th></th>\n",
       "      <th>column</th>\n",
       "      <th>count</th>\n",
       "      <th>ratio</th>\n",
       "    </tr>\n",
       "  </thead>\n",
       "  <tbody>\n",
       "    <tr>\n",
       "      <th>8</th>\n",
       "      <td>등록기호</td>\n",
       "      <td>8263</td>\n",
       "      <td>0.836582</td>\n",
       "    </tr>\n",
       "    <tr>\n",
       "      <th>14</th>\n",
       "      <td>지연사유</td>\n",
       "      <td>868772</td>\n",
       "      <td>87.958295</td>\n",
       "    </tr>\n",
       "    <tr>\n",
       "      <th>16</th>\n",
       "      <td>결항사유</td>\n",
       "      <td>979450</td>\n",
       "      <td>99.163823</td>\n",
       "    </tr>\n",
       "  </tbody>\n",
       "</table>\n",
       "</div>"
      ],
      "text/plain": [
       "   column   count      ratio\n",
       "8    등록기호    8263   0.836582\n",
       "14   지연사유  868772  87.958295\n",
       "16   결항사유  979450  99.163823"
      ]
     },
     "execution_count": 101,
     "metadata": {},
     "output_type": "execute_result"
    }
   ],
   "source": [
    "# 결측치가 있는 행 비율 보기\n",
    "# 결측치가 있는 데이터는 각각 1%도 안된다는 것을 알 수 있다\n",
    "# 이 중에서 지연사유나 결항사유는 지연 혹은 결항이 되지 않을 시 공백으로 남는게 타당하므로 고려하지 않아도 될듯\n",
    "missing_df = data_AFSNT.isnull().sum().reset_index()\n",
    "missing_df.columns = ['column', 'count']\n",
    "missing_df['ratio'] = missing_df['count'] / len(data_AFSNT) * 100\n",
    "missing_df.loc[missing_df['ratio'] != 0]"
   ]
  },
  {
   "cell_type": "code",
   "execution_count": 102,
   "metadata": {
    "ExecuteTime": {
     "end_time": "2019-09-08T14:47:55.880211Z",
     "start_time": "2019-09-08T14:47:48.274434Z"
    }
   },
   "outputs": [
    {
     "data": {
      "image/png": "[encoded data removed]",
      "text/plain": [
       "<Figure size 576x288 with 2 Axes>"
      ]
     },
     "metadata": {},
     "output_type": "display_data"
    }
   ],
   "source": [
    "# 결측 데이터 시각화\n",
    "msno.matrix(data_AFSNT, figsize=(8,4));"
   ]
  },
  {
   "cell_type": "markdown",
   "metadata": {},
   "source": [
    "#### AFSNT_DLY"
   ]
  },
  {
   "cell_type": "code",
   "execution_count": 103,
   "metadata": {
    "ExecuteTime": {
     "end_time": "2019-09-08T14:47:55.901665Z",
     "start_time": "2019-09-08T14:47:55.883584Z"
    }
   },
   "outputs": [
    {
     "data": {
      "text/plain": [
       "연           0\n",
       "월           0\n",
       "일           0\n",
       "요일          0\n",
       "공항          0\n",
       "상대공항        0\n",
       "항공사         0\n",
       "편명          0\n",
       "출도착         0\n",
       "계획시각        0\n",
       "지연여부    16076\n",
       "지연확률    16076\n",
       "dtype: int64"
      ]
     },
     "execution_count": 103,
     "metadata": {},
     "output_type": "execute_result"
    }
   ],
   "source": [
    "data_AFSNT_DLY.isnull().sum() # TEST 데이터는 깔끔하게 되어있는듯 싶다"
   ]
  },
  {
   "cell_type": "code",
   "execution_count": 104,
   "metadata": {
    "ExecuteTime": {
     "end_time": "2019-09-08T14:47:55.930477Z",
     "start_time": "2019-09-08T14:47:55.903099Z"
    }
   },
   "outputs": [
    {
     "data": {
      "text/html": [
       "<div>\n",
       "<style scoped>\n",
       "    .dataframe tbody tr th:only-of-type {\n",
       "        vertical-align: middle;\n",
       "    }\n",
       "\n",
       "    .dataframe tbody tr th {\n",
       "        vertical-align: top;\n",
       "    }\n",
       "\n",
       "    .dataframe thead th {\n",
       "        text-align: right;\n",
       "    }\n",
       "</style>\n",
       "<table border=\"1\" class=\"dataframe\">\n",
       "  <thead>\n",
       "    <tr style=\"text-align: right;\">\n",
       "      <th></th>\n",
       "      <th>column</th>\n",
       "      <th>count</th>\n",
       "      <th>ratio</th>\n",
       "    </tr>\n",
       "  </thead>\n",
       "  <tbody>\n",
       "    <tr>\n",
       "      <th>10</th>\n",
       "      <td>지연여부</td>\n",
       "      <td>16076</td>\n",
       "      <td>100.0</td>\n",
       "    </tr>\n",
       "    <tr>\n",
       "      <th>11</th>\n",
       "      <td>지연확률</td>\n",
       "      <td>16076</td>\n",
       "      <td>100.0</td>\n",
       "    </tr>\n",
       "  </tbody>\n",
       "</table>\n",
       "</div>"
      ],
      "text/plain": [
       "   column  count  ratio\n",
       "10   지연여부  16076  100.0\n",
       "11   지연확률  16076  100.0"
      ]
     },
     "execution_count": 104,
     "metadata": {},
     "output_type": "execute_result"
    }
   ],
   "source": [
    "missing_df_dly = data_AFSNT_DLY.isnull().sum().reset_index()\n",
    "missing_df_dly.columns = ['column', 'count']\n",
    "missing_df_dly['ratio'] = missing_df_dly['count'] / len(data_AFSNT_DLY) * 100\n",
    "missing_df_dly.loc[missing_df_dly['ratio'] != 0]"
   ]
  },
  {
   "cell_type": "code",
   "execution_count": 105,
   "metadata": {
    "ExecuteTime": {
     "end_time": "2019-09-08T14:47:56.248025Z",
     "start_time": "2019-09-08T14:47:55.934443Z"
    }
   },
   "outputs": [
    {
     "data": {
      "image/png": "[encoded data removed]",
      "text/plain": [
       "<Figure size 576x288 with 2 Axes>"
      ]
     },
     "metadata": {},
     "output_type": "display_data"
    }
   ],
   "source": [
    "# 결측 데이터 시각화\n",
    "msno.matrix(data_AFSNT_DLY, figsize=(8,4));"
   ]
  },
  {
   "cell_type": "markdown",
   "metadata": {},
   "source": [
    "#### SFSNT"
   ]
  },
  {
   "cell_type": "code",
   "execution_count": 106,
   "metadata": {
    "ExecuteTime": {
     "end_time": "2019-09-08T14:47:56.258859Z",
     "start_time": "2019-09-08T14:47:56.250411Z"
    },
    "scrolled": true
   },
   "outputs": [
    {
     "data": {
      "text/plain": [
       "시즌코드      0\n",
       "편명        0\n",
       "공항        0\n",
       "상대공항      0\n",
       "출발시각     18\n",
       "도착시각     19\n",
       "항공사       0\n",
       "월       432\n",
       "화       436\n",
       "수       441\n",
       "목       441\n",
       "금       438\n",
       "토       437\n",
       "일       459\n",
       "시작일자      0\n",
       "종료일자      0\n",
       "부정기편      0\n",
       "dtype: int64"
      ]
     },
     "execution_count": 106,
     "metadata": {},
     "output_type": "execute_result"
    }
   ],
   "source": [
    "data_SFSNT.isnull().sum()"
   ]
  },
  {
   "cell_type": "code",
   "execution_count": 107,
   "metadata": {
    "ExecuteTime": {
     "end_time": "2019-09-08T14:47:56.281632Z",
     "start_time": "2019-09-08T14:47:56.260747Z"
    }
   },
   "outputs": [
    {
     "data": {
      "text/html": [
       "<div>\n",
       "<style scoped>\n",
       "    .dataframe tbody tr th:only-of-type {\n",
       "        vertical-align: middle;\n",
       "    }\n",
       "\n",
       "    .dataframe tbody tr th {\n",
       "        vertical-align: top;\n",
       "    }\n",
       "\n",
       "    .dataframe thead th {\n",
       "        text-align: right;\n",
       "    }\n",
       "</style>\n",
       "<table border=\"1\" class=\"dataframe\">\n",
       "  <thead>\n",
       "    <tr style=\"text-align: right;\">\n",
       "      <th></th>\n",
       "      <th>column</th>\n",
       "      <th>count</th>\n",
       "      <th>ratio</th>\n",
       "    </tr>\n",
       "  </thead>\n",
       "  <tbody>\n",
       "    <tr>\n",
       "      <th>4</th>\n",
       "      <td>출발시각</td>\n",
       "      <td>18</td>\n",
       "      <td>1.517707</td>\n",
       "    </tr>\n",
       "    <tr>\n",
       "      <th>5</th>\n",
       "      <td>도착시각</td>\n",
       "      <td>19</td>\n",
       "      <td>1.602024</td>\n",
       "    </tr>\n",
       "    <tr>\n",
       "      <th>7</th>\n",
       "      <td>월</td>\n",
       "      <td>432</td>\n",
       "      <td>36.424958</td>\n",
       "    </tr>\n",
       "    <tr>\n",
       "      <th>8</th>\n",
       "      <td>화</td>\n",
       "      <td>436</td>\n",
       "      <td>36.762226</td>\n",
       "    </tr>\n",
       "    <tr>\n",
       "      <th>9</th>\n",
       "      <td>수</td>\n",
       "      <td>441</td>\n",
       "      <td>37.183811</td>\n",
       "    </tr>\n",
       "    <tr>\n",
       "      <th>10</th>\n",
       "      <td>목</td>\n",
       "      <td>441</td>\n",
       "      <td>37.183811</td>\n",
       "    </tr>\n",
       "    <tr>\n",
       "      <th>11</th>\n",
       "      <td>금</td>\n",
       "      <td>438</td>\n",
       "      <td>36.930860</td>\n",
       "    </tr>\n",
       "    <tr>\n",
       "      <th>12</th>\n",
       "      <td>토</td>\n",
       "      <td>437</td>\n",
       "      <td>36.846543</td>\n",
       "    </tr>\n",
       "    <tr>\n",
       "      <th>13</th>\n",
       "      <td>일</td>\n",
       "      <td>459</td>\n",
       "      <td>38.701518</td>\n",
       "    </tr>\n",
       "  </tbody>\n",
       "</table>\n",
       "</div>"
      ],
      "text/plain": [
       "   column  count      ratio\n",
       "4    출발시각     18   1.517707\n",
       "5    도착시각     19   1.602024\n",
       "7       월    432  36.424958\n",
       "8       화    436  36.762226\n",
       "9       수    441  37.183811\n",
       "10      목    441  37.183811\n",
       "11      금    438  36.930860\n",
       "12      토    437  36.846543\n",
       "13      일    459  38.701518"
      ]
     },
     "execution_count": 107,
     "metadata": {},
     "output_type": "execute_result"
    }
   ],
   "source": [
    "missing_df_sfsnt = data_SFSNT.isnull().sum().reset_index()\n",
    "missing_df_sfsnt.columns = ['column', 'count']\n",
    "missing_df_sfsnt['ratio'] = missing_df_sfsnt['count'] / len(data_SFSNT) * 100\n",
    "missing_df_sfsnt.loc[missing_df_sfsnt['ratio'] != 0]"
   ]
  },
  {
   "cell_type": "code",
   "execution_count": 108,
   "metadata": {
    "ExecuteTime": {
     "end_time": "2019-09-08T14:47:56.641114Z",
     "start_time": "2019-09-08T14:47:56.283476Z"
    }
   },
   "outputs": [
    {
     "data": {
      "image/png": "[encoded data removed]",
      "text/plain": [
       "<Figure size 1296x432 with 2 Axes>"
      ]
     },
     "metadata": {},
     "output_type": "display_data"
    }
   ],
   "source": [
    "# 결측 데이터 시각화\n",
    "msno.matrix(data_SFSNT, figsize=(18,6));"
   ]
  },
  {
   "cell_type": "markdown",
   "metadata": {},
   "source": [
    "### 데이터 특징의 타입 확인하기\n",
    "사실 대부분의 데이터가 연속형 데이터 타입이 아닌 `범주형 데이터 타입`임을 확인할 수 있다."
   ]
  },
  {
   "cell_type": "markdown",
   "metadata": {},
   "source": [
    "#### AFSNT"
   ]
  },
  {
   "cell_type": "code",
   "execution_count": 109,
   "metadata": {
    "ExecuteTime": {
     "end_time": "2019-09-08T14:47:57.339410Z",
     "start_time": "2019-09-08T14:47:56.643120Z"
    }
   },
   "outputs": [
    {
     "name": "stdout",
     "output_type": "stream",
     "text": [
      "<class 'pandas.core.frame.DataFrame'>\n",
      "RangeIndex: 987709 entries, 0 to 987708\n",
      "Data columns (total 17 columns):\n",
      "연       987709 non-null int64\n",
      "월       987709 non-null int64\n",
      "일       987709 non-null int64\n",
      "요일      987709 non-null object\n",
      "공항      987709 non-null object\n",
      "상대공항    987709 non-null object\n",
      "항공사     987709 non-null object\n",
      "편명      987709 non-null object\n",
      "등록기호    979446 non-null object\n",
      "출도착     987709 non-null object\n",
      "부정기편    987709 non-null object\n",
      "계획시각    987709 non-null object\n",
      "실제시각    987709 non-null object\n",
      "지연여부    987709 non-null object\n",
      "지연사유    118937 non-null object\n",
      "결항여부    987709 non-null object\n",
      "결항사유    8259 non-null object\n",
      "dtypes: int64(3), object(14)\n",
      "memory usage: 128.1+ MB\n"
     ]
    }
   ],
   "source": [
    "data_AFSNT.info()"
   ]
  },
  {
   "cell_type": "markdown",
   "metadata": {},
   "source": [
    "#### AFSNT_DLY"
   ]
  },
  {
   "cell_type": "code",
   "execution_count": 110,
   "metadata": {
    "ExecuteTime": {
     "end_time": "2019-09-08T14:47:57.357905Z",
     "start_time": "2019-09-08T14:47:57.341135Z"
    }
   },
   "outputs": [
    {
     "name": "stdout",
     "output_type": "stream",
     "text": [
      "<class 'pandas.core.frame.DataFrame'>\n",
      "RangeIndex: 16076 entries, 0 to 16075\n",
      "Data columns (total 12 columns):\n",
      "연       16076 non-null int64\n",
      "월       16076 non-null int64\n",
      "일       16076 non-null int64\n",
      "요일      16076 non-null object\n",
      "공항      16076 non-null object\n",
      "상대공항    16076 non-null object\n",
      "항공사     16076 non-null object\n",
      "편명      16076 non-null object\n",
      "출도착     16076 non-null object\n",
      "계획시각    16076 non-null object\n",
      "지연여부    0 non-null float64\n",
      "지연확률    0 non-null float64\n",
      "dtypes: float64(2), int64(3), object(7)\n",
      "memory usage: 1.5+ MB\n"
     ]
    }
   ],
   "source": [
    "data_AFSNT_DLY.info()"
   ]
  },
  {
   "cell_type": "markdown",
   "metadata": {},
   "source": [
    "#### SFSNT"
   ]
  },
  {
   "cell_type": "code",
   "execution_count": 111,
   "metadata": {
    "ExecuteTime": {
     "end_time": "2019-09-08T14:47:57.369644Z",
     "start_time": "2019-09-08T14:47:57.360183Z"
    }
   },
   "outputs": [
    {
     "name": "stdout",
     "output_type": "stream",
     "text": [
      "<class 'pandas.core.frame.DataFrame'>\n",
      "RangeIndex: 1186 entries, 0 to 1185\n",
      "Data columns (total 17 columns):\n",
      "시즌코드    1186 non-null object\n",
      "편명      1186 non-null object\n",
      "공항      1186 non-null object\n",
      "상대공항    1186 non-null object\n",
      "출발시각    1168 non-null object\n",
      "도착시각    1167 non-null object\n",
      "항공사     1186 non-null object\n",
      "월       754 non-null object\n",
      "화       750 non-null object\n",
      "수       745 non-null object\n",
      "목       745 non-null object\n",
      "금       748 non-null object\n",
      "토       749 non-null object\n",
      "일       727 non-null object\n",
      "시작일자    1186 non-null int64\n",
      "종료일자    1186 non-null int64\n",
      "부정기편    1186 non-null object\n",
      "dtypes: int64(2), object(15)\n",
      "memory usage: 157.6+ KB\n"
     ]
    }
   ],
   "source": [
    "data_SFSNT.info()"
   ]
  },
  {
   "cell_type": "markdown",
   "metadata": {},
   "source": [
    "### Check features\n",
    "기본적으로 종속변수의 분포를 살펴봅니다. 종속변수란 다른 변수들의 관계를 주로 추론하고, 최종적으로는 예측하고자 하는 변수입니다."
   ]
  },
  {
   "cell_type": "code",
   "execution_count": 112,
   "metadata": {
    "ExecuteTime": {
     "end_time": "2019-09-08T14:47:57.438117Z",
     "start_time": "2019-09-08T14:47:57.371698Z"
    }
   },
   "outputs": [
    {
     "data": {
      "text/plain": [
       "N    868772\n",
       "Y    118937\n",
       "Name: 지연여부, dtype: int64"
      ]
     },
     "execution_count": 112,
     "metadata": {},
     "output_type": "execute_result"
    }
   ],
   "source": [
    "# 비행기 지연여부 수\n",
    "data_AFSNT['지연여부'].value_counts()"
   ]
  },
  {
   "cell_type": "code",
   "execution_count": 113,
   "metadata": {
    "ExecuteTime": {
     "end_time": "2019-09-08T14:47:57.497203Z",
     "start_time": "2019-09-08T14:47:57.440105Z"
    }
   },
   "outputs": [
    {
     "data": {
      "text/plain": [
       "N    87.958295\n",
       "Y    12.041705\n",
       "Name: 지연여부, dtype: float64"
      ]
     },
     "execution_count": 113,
     "metadata": {},
     "output_type": "execute_result"
    }
   ],
   "source": [
    "# 전체 지연여부 데이터 중 지연 데이터 수\n",
    "# 전체 데이터 중에서 약 12.041705% 정도 지연되는 것을 볼 수 있음\n",
    "# 예측해야할 타켓이 현재 imblanced된 상태임을 알 수 있음\n",
    "data_AFSNT['지연여부'].value_counts() / len(data_AFSNT) * 100"
   ]
  },
  {
   "cell_type": "code",
   "execution_count": 114,
   "metadata": {
    "ExecuteTime": {
     "end_time": "2019-09-08T14:47:57.691703Z",
     "start_time": "2019-09-08T14:47:57.498871Z"
    }
   },
   "outputs": [
    {
     "data": {
      "image/png": "[encoded data removed]",
      "text/plain": [
       "<Figure size 432x288 with 1 Axes>"
      ]
     },
     "metadata": {},
     "output_type": "display_data"
    }
   ],
   "source": [
    "(data_AFSNT['지연여부'].value_counts() / len(data_AFSNT) * 100).plot(kind='barh')\n",
    "plt.show()"
   ]
  },
  {
   "cell_type": "markdown",
   "metadata": {},
   "source": [
    "#### 범주형 변수 확인하기"
   ]
  },
  {
   "cell_type": "code",
   "execution_count": 115,
   "metadata": {
    "ExecuteTime": {
     "end_time": "2019-09-08T14:47:57.707082Z",
     "start_time": "2019-09-08T14:47:57.694303Z"
    }
   },
   "outputs": [],
   "source": [
    "# 지연여부에 따른 변수 비율 확인\n",
    "def show_cat_var(dataset,feature,legend_flag=True):\n",
    "    (dataset[feature].value_counts() / len(dataset[feature]) * 100).sort_index().plot(kind='bar')\n",
    "    plt.title('{}의 전체 비율'.format(feature))\n",
    "    plt.xlabel('{}'.format(feature))\n",
    "    plt.ylabel('비율(%)')\n",
    "    plt.show()\n",
    "    if dataset is data_AFSNT:\n",
    "        delay = dataset[dataset['지연여부']=='Y'][feature].value_counts() / len(dataset[dataset['지연여부']=='Y'][feature]) * 100\n",
    "        not_delay = dataset[dataset['지연여부']=='N'][feature].value_counts() / len(dataset[dataset['지연여부']=='N'][feature]) * 100\n",
    "        df = pd.DataFrame([delay,not_delay])\n",
    "        df.index = ['지연 O','지연 X']\n",
    "        df.plot(kind='bar',stacked=True, figsize=(10,5),legend=legend_flag)\n",
    "        plt.title('{}의 지연여부별 비율'.format(feature))\n",
    "        plt.ylabel('비율(%)')\n",
    "        plt.show()"
   ]
  },
  {
   "cell_type": "markdown",
   "metadata": {},
   "source": [
    "#### 월"
   ]
  },
  {
   "cell_type": "code",
   "execution_count": 116,
   "metadata": {
    "ExecuteTime": {
     "end_time": "2019-09-08T14:47:58.599270Z",
     "start_time": "2019-09-08T14:47:57.711162Z"
    },
    "scrolled": false
   },
   "outputs": [],
   "source": [
    "# 데이터의 시작과 끝을 고려해보면 마지막이 6월까지이기 때문에 7월부터는 데이터가 부족함\n",
    "# show_cat_var(data_AFSNT,'월')"
   ]
  },
  {
   "cell_type": "markdown",
   "metadata": {},
   "source": [
    "#### 일"
   ]
  },
  {
   "cell_type": "code",
   "execution_count": 117,
   "metadata": {
    "ExecuteTime": {
     "end_time": "2019-09-08T14:47:59.490973Z",
     "start_time": "2019-09-08T14:47:58.601642Z"
    },
    "scrolled": false
   },
   "outputs": [],
   "source": [
    "#show_cat_var(data_AFSNT,'일',False)"
   ]
  },
  {
   "cell_type": "markdown",
   "metadata": {},
   "source": [
    "#### 요일"
   ]
  },
  {
   "cell_type": "code",
   "execution_count": 118,
   "metadata": {
    "ExecuteTime": {
     "end_time": "2019-09-08T14:48:00.321296Z",
     "start_time": "2019-09-08T14:47:59.492499Z"
    }
   },
   "outputs": [],
   "source": [
    "#show_cat_var(data_AFSNT,'요일')"
   ]
  },
  {
   "cell_type": "markdown",
   "metadata": {},
   "source": [
    "#### 공항"
   ]
  },
  {
   "cell_type": "code",
   "execution_count": 119,
   "metadata": {
    "ExecuteTime": {
     "end_time": "2019-09-08T14:48:00.508178Z",
     "start_time": "2019-09-08T14:48:00.323050Z"
    }
   },
   "outputs": [],
   "source": [
    "data_AFSNT['공항'] = data_AFSNT['공항'].map(lambda x: ARP_name[x])\n",
    "data_AFSNT_DLY['공항'] = data_AFSNT_DLY['공항'].map(lambda x: ARP_name[x])"
   ]
  },
  {
   "cell_type": "code",
   "execution_count": 120,
   "metadata": {
    "ExecuteTime": {
     "end_time": "2019-09-08T14:48:01.402530Z",
     "start_time": "2019-09-08T14:48:00.509631Z"
    }
   },
   "outputs": [],
   "source": [
    "#show_cat_var(data_AFSNT,'공항')"
   ]
  },
  {
   "cell_type": "markdown",
   "metadata": {},
   "source": [
    "#### 상대공항"
   ]
  },
  {
   "cell_type": "code",
   "execution_count": 121,
   "metadata": {
    "ExecuteTime": {
     "end_time": "2019-09-08T14:48:01.589667Z",
     "start_time": "2019-09-08T14:48:01.404261Z"
    }
   },
   "outputs": [],
   "source": [
    "data_AFSNT['상대공항'] = data_AFSNT['상대공항'].map(lambda x: ARP_name[x])\n",
    "data_AFSNT_DLY['상대공항'] = data_AFSNT_DLY['상대공항'].map(lambda x: ARP_name[x])"
   ]
  },
  {
   "cell_type": "code",
   "execution_count": 122,
   "metadata": {
    "ExecuteTime": {
     "end_time": "2019-09-08T14:48:02.633265Z",
     "start_time": "2019-09-08T14:48:01.591054Z"
    }
   },
   "outputs": [],
   "source": [
    "#show_cat_var(data_AFSNT,'상대공항')"
   ]
  },
  {
   "cell_type": "markdown",
   "metadata": {},
   "source": [
    "#### 항공사"
   ]
  },
  {
   "cell_type": "code",
   "execution_count": 123,
   "metadata": {
    "ExecuteTime": {
     "end_time": "2019-09-08T14:48:02.838728Z",
     "start_time": "2019-09-08T14:48:02.635125Z"
    }
   },
   "outputs": [],
   "source": [
    "data_AFSNT['항공사'] = data_AFSNT['항공사'].map(lambda x: FLO_name[x])\n",
    "data_AFSNT_DLY['항공사'] = data_AFSNT_DLY['항공사'].map(lambda x: FLO_name[x])"
   ]
  },
  {
   "cell_type": "code",
   "execution_count": 124,
   "metadata": {
    "ExecuteTime": {
     "end_time": "2019-09-08T14:48:03.730133Z",
     "start_time": "2019-09-08T14:48:02.840302Z"
    }
   },
   "outputs": [],
   "source": [
    "#show_cat_var(data_AFSNT,'항공사')"
   ]
  },
  {
   "cell_type": "markdown",
   "metadata": {},
   "source": [
    "#### 등록기호"
   ]
  },
  {
   "cell_type": "code",
   "execution_count": 125,
   "metadata": {
    "ExecuteTime": {
     "end_time": "2019-09-08T14:48:10.384382Z",
     "start_time": "2019-09-08T14:48:03.731638Z"
    }
   },
   "outputs": [],
   "source": [
    "#show_cat_var(data_AFSNT,'등록기호',False)"
   ]
  },
  {
   "cell_type": "markdown",
   "metadata": {},
   "source": [
    "#### 출 / 도착"
   ]
  },
  {
   "cell_type": "code",
   "execution_count": 126,
   "metadata": {
    "ExecuteTime": {
     "end_time": "2019-09-08T14:48:11.231941Z",
     "start_time": "2019-09-08T14:48:10.387204Z"
    }
   },
   "outputs": [],
   "source": [
    "#show_cat_var(data_AFSNT,'출도착')"
   ]
  },
  {
   "cell_type": "markdown",
   "metadata": {},
   "source": [
    "#### 부정기편"
   ]
  },
  {
   "cell_type": "code",
   "execution_count": 127,
   "metadata": {
    "ExecuteTime": {
     "end_time": "2019-09-08T14:48:12.018917Z",
     "start_time": "2019-09-08T14:48:11.233995Z"
    }
   },
   "outputs": [],
   "source": [
    "#show_cat_var(data_AFSNT,'부정기편')"
   ]
  },
  {
   "cell_type": "markdown",
   "metadata": {},
   "source": [
    "#### 지연사유"
   ]
  },
  {
   "cell_type": "code",
   "execution_count": 128,
   "metadata": {
    "ExecuteTime": {
     "end_time": "2019-09-08T14:48:13.045987Z",
     "start_time": "2019-09-08T14:48:12.020716Z"
    }
   },
   "outputs": [],
   "source": [
    "#show_cat_var(data_AFSNT,'지연사유',False)"
   ]
  },
  {
   "cell_type": "markdown",
   "metadata": {},
   "source": [
    "#### 결항여부"
   ]
  },
  {
   "cell_type": "code",
   "execution_count": 129,
   "metadata": {
    "ExecuteTime": {
     "end_time": "2019-09-08T14:48:13.815094Z",
     "start_time": "2019-09-08T14:48:13.047645Z"
    }
   },
   "outputs": [],
   "source": [
    "#show_cat_var(data_AFSNT, '결항여부')"
   ]
  },
  {
   "cell_type": "markdown",
   "metadata": {},
   "source": [
    "---\n",
    "\n",
    "## Feature Engineering"
   ]
  },
  {
   "cell_type": "markdown",
   "metadata": {},
   "source": [
    "### Treatment of missing values"
   ]
  },
  {
   "cell_type": "code",
   "execution_count": 130,
   "metadata": {
    "ExecuteTime": {
     "end_time": "2019-09-08T14:48:14.044878Z",
     "start_time": "2019-09-08T14:48:13.817029Z"
    }
   },
   "outputs": [],
   "source": [
    "data_AFSNT['지연사유'].fillna('X', axis=0, inplace =True)\n",
    "data_AFSNT['결항사유'].fillna('X', axis=0, inplace =True)\n",
    "data_AFSNT['등록기호'].fillna('NAN', axis=0, inplace =True)"
   ]
  },
  {
   "cell_type": "code",
   "execution_count": 131,
   "metadata": {
    "ExecuteTime": {
     "end_time": "2019-09-08T14:48:14.651414Z",
     "start_time": "2019-09-08T14:48:14.046265Z"
    }
   },
   "outputs": [
    {
     "data": {
      "text/plain": [
       "연       0\n",
       "월       0\n",
       "일       0\n",
       "요일      0\n",
       "공항      0\n",
       "상대공항    0\n",
       "항공사     0\n",
       "편명      0\n",
       "등록기호    0\n",
       "출도착     0\n",
       "부정기편    0\n",
       "계획시각    0\n",
       "실제시각    0\n",
       "지연여부    0\n",
       "지연사유    0\n",
       "결항여부    0\n",
       "결항사유    0\n",
       "dtype: int64"
      ]
     },
     "execution_count": 131,
     "metadata": {},
     "output_type": "execute_result"
    }
   ],
   "source": [
    "data_AFSNT.isnull().sum() # 더이상의 결측치는 존재하지 않는다"
   ]
  },
  {
   "cell_type": "markdown",
   "metadata": {},
   "source": [
    "### Treatment of categorical variables\n",
    "- Transform to numbers via LabelEncoder"
   ]
  },
  {
   "cell_type": "code",
   "execution_count": 132,
   "metadata": {
    "ExecuteTime": {
     "end_time": "2019-09-08T14:48:18.099193Z",
     "start_time": "2019-09-08T14:48:14.652746Z"
    }
   },
   "outputs": [],
   "source": [
    "# 등록기호\n",
    "le_reg = LabelEncoder()\n",
    "le_reg.fit(data_AFSNT['등록기호'])\n",
    "data_AFSNT['등록기호'] = le_reg.transform(data_AFSNT['등록기호'])\n",
    "\n",
    "# 편명\n",
    "le_flight = LabelEncoder()\n",
    "le_flight.fit(pd.unique(pd.concat([data_AFSNT['편명'],data_AFSNT_DLY['편명']])))\n",
    "data_AFSNT['편명'] = le_flight.transform(data_AFSNT['편명'])\n",
    "data_AFSNT_DLY['편명'] = le_flight.transform(data_AFSNT_DLY['편명'])\n",
    "data_AFSNT_DLY['편명'] = data_AFSNT_DLY['편명'].apply(lambda x: str(x))\n",
    "\n",
    "# 항공사\n",
    "le_airline = LabelEncoder()\n",
    "le_airline.fit(pd.unique(pd.concat([data_AFSNT['항공사'],data_AFSNT_DLY['항공사']])))\n",
    "data_AFSNT['항공사'] = le_airline.transform(data_AFSNT['항공사'])\n",
    "data_AFSNT_DLY['항공사'] = le_airline.transform(data_AFSNT_DLY['항공사'])\n",
    "data_AFSNT_DLY['항공사'] = data_AFSNT_DLY['항공사'].apply(lambda x: str(x))\n",
    "\n",
    "# 공항\n",
    "le_airport = LabelEncoder()\n",
    "le_airport.fit(pd.unique(pd.concat([data_AFSNT['공항'],data_AFSNT_DLY['공항']])))\n",
    "data_AFSNT['공항'] = le_airport.transform(data_AFSNT['공항'])\n",
    "data_AFSNT['상대공항'] = le_airport.transform(data_AFSNT['상대공항'])\n",
    "data_AFSNT_DLY['공항'] = le_airport.transform(data_AFSNT_DLY['공항'])\n",
    "data_AFSNT_DLY['상대공항'] = le_airport.transform(data_AFSNT_DLY['상대공항'])\n",
    "data_AFSNT_DLY['공항'] = data_AFSNT_DLY['공항'].apply(lambda x: str(x))\n",
    "data_AFSNT_DLY['상대공항'] = data_AFSNT_DLY['상대공항'].apply(lambda x: str(x))\n",
    "\n",
    "# 출도착\n",
    "le_da = LabelEncoder()\n",
    "le_da.fit(data_AFSNT['출도착'])\n",
    "data_AFSNT['출도착'] = le_da.transform(data_AFSNT['출도착'])\n",
    "data_AFSNT_DLY['출도착'] = le_da.transform(data_AFSNT_DLY['출도착'])\n",
    "data_AFSNT_DLY['출도착'] = data_AFSNT_DLY['출도착'].apply(lambda x: str(x))\n",
    "\n",
    "# 부정기편\n",
    "le_unsch = LabelEncoder()\n",
    "le_unsch.fit(data_AFSNT['부정기편'])\n",
    "data_AFSNT['부정기편'] = le_unsch.transform(data_AFSNT['부정기편'])\n",
    "\n",
    "# 지연여부\n",
    "le_delay = LabelEncoder()\n",
    "le_delay.fit(data_AFSNT['지연여부'])\n",
    "data_AFSNT['지연여부'] = le_delay.transform(data_AFSNT['지연여부'])\n",
    "\n",
    "# 지연사유\n",
    "le_delay_reason = LabelEncoder()\n",
    "le_delay_reason.fit(data_AFSNT['지연사유'])\n",
    "data_AFSNT['지연사유'] = le_delay_reason.transform(data_AFSNT['지연사유'])\n",
    "\n",
    "# 결항여부\n",
    "le_cancel = LabelEncoder()\n",
    "le_cancel.fit(data_AFSNT['결항여부'])\n",
    "data_AFSNT['결항여부'] = le_cancel.transform(data_AFSNT['결항여부'])\n",
    "\n",
    "# 결항사유\n",
    "le_cancel_reason = LabelEncoder()\n",
    "le_cancel_reason.fit(data_AFSNT['결항사유'])\n",
    "data_AFSNT['결항사유'] = le_cancel_reason.transform(data_AFSNT['결항사유'])"
   ]
  },
  {
   "cell_type": "markdown",
   "metadata": {},
   "source": [
    "### Treatment of columns about time"
   ]
  },
  {
   "cell_type": "code",
   "execution_count": 133,
   "metadata": {
    "ExecuteTime": {
     "end_time": "2019-09-08T14:48:27.566854Z",
     "start_time": "2019-09-08T14:48:18.102665Z"
    }
   },
   "outputs": [],
   "source": [
    "# 날짜 형식 바꾸기\n",
    "\n",
    "# AFSNT\n",
    "data_AFSNT['연'] = data_AFSNT['연'].apply(lambda x: str(x)) \n",
    "data_AFSNT['월'] = data_AFSNT['월'].apply(lambda x: str(x))\n",
    "data_AFSNT['일'] = data_AFSNT['일'].apply(lambda x: str(x))\n",
    "data_AFSNT['날짜'] = data_AFSNT['연']+'-'+data_AFSNT['월']+'-'+data_AFSNT['일']\n",
    "data_AFSNT['날짜'].apply(lambda x: datetime.strptime(x, '%Y-%m-%d'))\n",
    "data_AFSNT.drop(['연','월','일','요일'],axis=1,inplace=True)\n",
    "data_AFSNT = data_AFSNT[['날짜']+data_AFSNT.columns.tolist()[:-1]]\n",
    "\n",
    "# AFSNT_DLY\n",
    "data_AFSNT_DLY['연'] = data_AFSNT_DLY['연'].apply(lambda x: str(x))\n",
    "data_AFSNT_DLY['월'] = data_AFSNT_DLY['월'].apply(lambda x: str(x))\n",
    "data_AFSNT_DLY['일'] = data_AFSNT_DLY['일'].apply(lambda x: str(x))\n",
    "data_AFSNT_DLY['날짜'] = data_AFSNT_DLY['연']+'-'+data_AFSNT_DLY['월']+'-'+data_AFSNT_DLY['일']\n",
    "data_AFSNT_DLY['날짜'].apply(lambda x: datetime.strptime(x, '%Y-%m-%d'))\n",
    "data_AFSNT_DLY.drop(['연','월','일','요일'],axis=1,inplace=True)\n",
    "data_AFSNT_DLY = data_AFSNT_DLY[['날짜']+data_AFSNT_DLY.columns.tolist()[:-1]]"
   ]
  },
  {
   "cell_type": "code",
   "execution_count": 134,
   "metadata": {
    "ExecuteTime": {
     "end_time": "2019-09-08T14:48:50.992405Z",
     "start_time": "2019-09-08T14:48:27.569068Z"
    }
   },
   "outputs": [],
   "source": [
    "# 시간차 컬럼 추가\n",
    "data_AFSNT['계획시각'] = data_AFSNT['계획시각'].apply(lambda x: str(x)).apply(lambda x: datetime.strptime(x, '%H:%M'))\n",
    "data_AFSNT_DLY['계획시각'] = data_AFSNT_DLY['계획시각'].apply(lambda x: str(x)).apply(lambda x: datetime.strptime(x, '%H:%M'))\n",
    "data_AFSNT['실제시각'] = data_AFSNT['실제시각'].apply(lambda x: str(x)).apply(lambda x: datetime.strptime(x, '%H:%M'))\n",
    "data_AFSNT['시간차'] = data_AFSNT['실제시각']-data_AFSNT['계획시각']\n",
    "data_AFSNT['시간차'] = data_AFSNT['시간차'].apply(lambda x: x.total_seconds()/60)"
   ]
  },
  {
   "cell_type": "code",
   "execution_count": 135,
   "metadata": {
    "ExecuteTime": {
     "end_time": "2019-09-08T14:48:53.630284Z",
     "start_time": "2019-09-08T14:48:50.995126Z"
    }
   },
   "outputs": [],
   "source": [
    "# 시간대 컬럼 추가\n",
    "data_AFSNT['시간대']=data_AFSNT['계획시각'].apply(lambda X: X.hour)\n",
    "data_AFSNT_DLY['시간대']=data_AFSNT_DLY['계획시각'].apply(lambda X: X.hour)\n",
    "data_AFSNT_DLY['시간대'] = data_AFSNT_DLY['시간대'].apply(lambda x: str(x))"
   ]
  },
  {
   "cell_type": "code",
   "execution_count": 136,
   "metadata": {
    "ExecuteTime": {
     "end_time": "2019-09-08T14:49:33.121803Z",
     "start_time": "2019-09-08T14:49:33.102384Z"
    },
    "scrolled": true
   },
   "outputs": [
    {
     "data": {
      "text/html": [
       "<div>\n",
       "<style scoped>\n",
       "    .dataframe tbody tr th:only-of-type {\n",
       "        vertical-align: middle;\n",
       "    }\n",
       "\n",
       "    .dataframe tbody tr th {\n",
       "        vertical-align: top;\n",
       "    }\n",
       "\n",
       "    .dataframe thead th {\n",
       "        text-align: right;\n",
       "    }\n",
       "</style>\n",
       "<table border=\"1\" class=\"dataframe\">\n",
       "  <thead>\n",
       "    <tr style=\"text-align: right;\">\n",
       "      <th></th>\n",
       "      <th>날짜</th>\n",
       "      <th>공항</th>\n",
       "      <th>상대공항</th>\n",
       "      <th>항공사</th>\n",
       "      <th>편명</th>\n",
       "      <th>등록기호</th>\n",
       "      <th>출도착</th>\n",
       "      <th>부정기편</th>\n",
       "      <th>계획시각</th>\n",
       "      <th>실제시각</th>\n",
       "      <th>지연여부</th>\n",
       "      <th>지연사유</th>\n",
       "      <th>결항여부</th>\n",
       "      <th>결항사유</th>\n",
       "      <th>시간차</th>\n",
       "      <th>시간대</th>\n",
       "    </tr>\n",
       "  </thead>\n",
       "  <tbody>\n",
       "    <tr>\n",
       "      <th>0</th>\n",
       "      <td>2017-1-1</td>\n",
       "      <td>12</td>\n",
       "      <td>13</td>\n",
       "      <td>1</td>\n",
       "      <td>1408</td>\n",
       "      <td>90</td>\n",
       "      <td>1</td>\n",
       "      <td>0</td>\n",
       "      <td>1900-01-01 10:05:00</td>\n",
       "      <td>1900-01-01 10:32:00</td>\n",
       "      <td>0</td>\n",
       "      <td>34</td>\n",
       "      <td>0</td>\n",
       "      <td>21</td>\n",
       "      <td>27.0</td>\n",
       "      <td>10</td>\n",
       "    </tr>\n",
       "    <tr>\n",
       "      <th>1</th>\n",
       "      <td>2017-1-1</td>\n",
       "      <td>12</td>\n",
       "      <td>13</td>\n",
       "      <td>1</td>\n",
       "      <td>1407</td>\n",
       "      <td>90</td>\n",
       "      <td>0</td>\n",
       "      <td>0</td>\n",
       "      <td>1900-01-01 09:30:00</td>\n",
       "      <td>1900-01-01 09:31:00</td>\n",
       "      <td>0</td>\n",
       "      <td>34</td>\n",
       "      <td>0</td>\n",
       "      <td>21</td>\n",
       "      <td>1.0</td>\n",
       "      <td>9</td>\n",
       "    </tr>\n",
       "    <tr>\n",
       "      <th>2</th>\n",
       "      <td>2017-1-1</td>\n",
       "      <td>12</td>\n",
       "      <td>13</td>\n",
       "      <td>1</td>\n",
       "      <td>1409</td>\n",
       "      <td>90</td>\n",
       "      <td>0</td>\n",
       "      <td>0</td>\n",
       "      <td>1900-01-01 12:45:00</td>\n",
       "      <td>1900-01-01 13:03:00</td>\n",
       "      <td>0</td>\n",
       "      <td>34</td>\n",
       "      <td>0</td>\n",
       "      <td>21</td>\n",
       "      <td>18.0</td>\n",
       "      <td>12</td>\n",
       "    </tr>\n",
       "    <tr>\n",
       "      <th>3</th>\n",
       "      <td>2017-1-1</td>\n",
       "      <td>12</td>\n",
       "      <td>13</td>\n",
       "      <td>1</td>\n",
       "      <td>1410</td>\n",
       "      <td>90</td>\n",
       "      <td>1</td>\n",
       "      <td>0</td>\n",
       "      <td>1900-01-01 13:25:00</td>\n",
       "      <td>1900-01-01 14:09:00</td>\n",
       "      <td>1</td>\n",
       "      <td>18</td>\n",
       "      <td>0</td>\n",
       "      <td>21</td>\n",
       "      <td>44.0</td>\n",
       "      <td>13</td>\n",
       "    </tr>\n",
       "    <tr>\n",
       "      <th>4</th>\n",
       "      <td>2017-1-1</td>\n",
       "      <td>12</td>\n",
       "      <td>13</td>\n",
       "      <td>1</td>\n",
       "      <td>1411</td>\n",
       "      <td>90</td>\n",
       "      <td>0</td>\n",
       "      <td>0</td>\n",
       "      <td>1900-01-01 16:10:00</td>\n",
       "      <td>1900-01-01 16:31:00</td>\n",
       "      <td>0</td>\n",
       "      <td>34</td>\n",
       "      <td>0</td>\n",
       "      <td>21</td>\n",
       "      <td>21.0</td>\n",
       "      <td>16</td>\n",
       "    </tr>\n",
       "  </tbody>\n",
       "</table>\n",
       "</div>"
      ],
      "text/plain": [
       "         날짜  공항  상대공항  항공사    편명  등록기호  출도착  부정기편                계획시각  \\\n",
       "0  2017-1-1  12    13    1  1408    90    1     0 1900-01-01 10:05:00   \n",
       "1  2017-1-1  12    13    1  1407    90    0     0 1900-01-01 09:30:00   \n",
       "2  2017-1-1  12    13    1  1409    90    0     0 1900-01-01 12:45:00   \n",
       "3  2017-1-1  12    13    1  1410    90    1     0 1900-01-01 13:25:00   \n",
       "4  2017-1-1  12    13    1  1411    90    0     0 1900-01-01 16:10:00   \n",
       "\n",
       "                 실제시각  지연여부  지연사유  결항여부  결항사유   시간차  시간대  \n",
       "0 1900-01-01 10:32:00     0    34     0    21  27.0   10  \n",
       "1 1900-01-01 09:31:00     0    34     0    21   1.0    9  \n",
       "2 1900-01-01 13:03:00     0    34     0    21  18.0   12  \n",
       "3 1900-01-01 14:09:00     1    18     0    21  44.0   13  \n",
       "4 1900-01-01 16:31:00     0    34     0    21  21.0   16  "
      ]
     },
     "execution_count": 136,
     "metadata": {},
     "output_type": "execute_result"
    }
   ],
   "source": [
    "data_AFSNT.head()"
   ]
  },
  {
   "cell_type": "markdown",
   "metadata": {},
   "source": [
    "### Delete canceled flights"
   ]
  },
  {
   "cell_type": "code",
   "execution_count": 137,
   "metadata": {
    "ExecuteTime": {
     "end_time": "2019-09-08T14:52:14.961440Z",
     "start_time": "2019-09-08T14:52:14.954127Z"
    }
   },
   "outputs": [
    {
     "data": {
      "text/plain": [
       "2736     1900-01-01\n",
       "2737     1900-01-01\n",
       "2887     1900-01-01\n",
       "2888     1900-01-01\n",
       "3579     1900-01-01\n",
       "3580     1900-01-01\n",
       "3581     1900-01-01\n",
       "3582     1900-01-01\n",
       "3788     1900-01-01\n",
       "3789     1900-01-01\n",
       "3878     1900-01-01\n",
       "3879     1900-01-01\n",
       "5682     1900-01-01\n",
       "5683     1900-01-01\n",
       "5684     1900-01-01\n",
       "5685     1900-01-01\n",
       "5686     1900-01-01\n",
       "5689     1900-01-01\n",
       "5729     1900-01-01\n",
       "5730     1900-01-01\n",
       "5772     1900-01-01\n",
       "5781     1900-01-01\n",
       "5782     1900-01-01\n",
       "5783     1900-01-01\n",
       "5784     1900-01-01\n",
       "5785     1900-01-01\n",
       "5786     1900-01-01\n",
       "5787     1900-01-01\n",
       "5793     1900-01-01\n",
       "5797     1900-01-01\n",
       "            ...    \n",
       "979975   1900-01-01\n",
       "979976   1900-01-01\n",
       "979982   1900-01-01\n",
       "979988   1900-01-01\n",
       "979989   1900-01-01\n",
       "979994   1900-01-01\n",
       "979999   1900-01-01\n",
       "980001   1900-01-01\n",
       "980005   1900-01-01\n",
       "980006   1900-01-01\n",
       "980008   1900-01-01\n",
       "980012   1900-01-01\n",
       "980013   1900-01-01\n",
       "980014   1900-01-01\n",
       "980015   1900-01-01\n",
       "980017   1900-01-01\n",
       "980021   1900-01-01\n",
       "980022   1900-01-01\n",
       "980026   1900-01-01\n",
       "980028   1900-01-01\n",
       "983205   1900-01-01\n",
       "983214   1900-01-01\n",
       "983248   1900-01-01\n",
       "983251   1900-01-01\n",
       "985365   1900-01-01\n",
       "985375   1900-01-01\n",
       "985406   1900-01-01\n",
       "985420   1900-01-01\n",
       "985436   1900-01-01\n",
       "985441   1900-01-01\n",
       "Name: 실제시각, Length: 8259, dtype: datetime64[ns]"
      ]
     },
     "execution_count": 137,
     "metadata": {},
     "output_type": "execute_result"
    }
   ],
   "source": [
    "data_AFSNT[data_AFSNT.결항여부==1].실제시각 "
   ]
  },
  {
   "cell_type": "code",
   "execution_count": 138,
   "metadata": {
    "ExecuteTime": {
     "end_time": "2019-09-08T14:49:35.089792Z",
     "start_time": "2019-09-08T14:49:34.857894Z"
    }
   },
   "outputs": [
    {
     "name": "stdout",
     "output_type": "stream",
     "text": [
      "결항 항공편 8259편 제외\n"
     ]
    }
   ],
   "source": [
    "cancel_flight_list = data_AFSNT[(data_AFSNT.결항여부 == 1)].index\n",
    "print('결항 항공편 {}편 제외'.format(len(cancel_flight_list)))\n",
    "data_AFSNT.drop(cancel_flight_list,inplace=True)"
   ]
  },
  {
   "cell_type": "markdown",
   "metadata": {},
   "source": [
    "### make marks to link departure and arrival by flights"
   ]
  },
  {
   "cell_type": "code",
   "execution_count": 139,
   "metadata": {
    "ExecuteTime": {
     "end_time": "2019-09-08T14:38:30.999232Z",
     "start_time": "2019-09-08T14:38:15.797458Z"
    }
   },
   "outputs": [],
   "source": [
    "grouped_flight = data_AFSNT.copy()\n",
    "grouped_flight.index = range(0, len(grouped_flight))\n",
    "grouped_flight['항공사'] = grouped_flight['항공사'].apply(lambda x: str(x))\n",
    "grouped_flight['편명'] = grouped_flight['편명'].apply(lambda x: str(x))\n",
    "grouped_flight['등록기호'] = grouped_flight['등록기호'].apply(lambda x: str(x))\n",
    "grouped_flight['날짜'] = grouped_flight['날짜'].apply(lambda x: str(x)[:10])\n",
    "grouped_flight['기호'] = grouped_flight['항공사'] + '-' + grouped_flight['편명'] + \\\n",
    "    '-' + grouped_flight['등록기호'] + '-' + grouped_flight['날짜']\n",
    "group_count = pd.DataFrame(grouped_flight['기호'].value_counts()).reset_index()\n",
    "group_count.columns = ['기호', '기호값']\n",
    "add_group_count = grouped_flight.merge(group_count, on='기호', how='inner')\n",
    "\n",
    "changed_date_index = add_group_count[(add_group_count['출도착'] == 0) & (add_group_count['기호값'] == 1) & (\n",
    "    add_group_count['시간대'] == 0) | (add_group_count['시간대'] == 1)]['날짜'].index\n",
    "\n",
    "unchanged = grouped_flight.drop(changed_date_index, axis=0)\n",
    "changed = add_group_count[(add_group_count['출도착'] == 0) & (add_group_count['기호값'] == 1) &\n",
    "                          (add_group_count['시간대'] == 0) | (add_group_count['시간대'] == 1)]\n",
    "changed['날짜'] = changed['날짜'].apply(lambda x: datetime.strptime(x, '%Y-%m-%d'))\n",
    "import datetime\n",
    "changed['날짜'] = changed['날짜'] - datetime.timedelta(days=1)\n",
    "change_complete = pd.concat([changed, unchanged], join='outer', axis=0)\n",
    "change_complete.drop('기호', axis=1, inplace=True)\n",
    "change_complete.drop('기호값', axis=1, inplace=True)\n",
    "change_complete['날짜'] = change_complete['날짜'].apply(lambda x: str(x)[:10])\n",
    "change_complete['기호'] = change_complete['항공사'] + '-' + change_complete['편명'] + \\\n",
    "    '-' + change_complete['등록기호'] + '-' + change_complete['날짜']\n",
    "\n",
    "group_value_count = pd.DataFrame(change_complete['기호'].value_counts()).reset_index()\n",
    "group_value_count.columns = ['기호', '기호값']\n",
    "add_group_count = change_complete.merge(group_count, on='기호', how='inner')\n",
    "add_group_count = add_group_count.sort_values(by=['기호값', '기호'], ascending=False)\n",
    "add_group_count = add_group_count.reset_index()\n",
    "# 기호값이 3,4개인 항은 코드의 안정성을 위해 제거\n",
    "group_count_over_list = add_group_count[(add_group_count.기호값 == 3) | (add_group_count.기호값 == 4)].index\n",
    "add_group_count.drop(group_count_over_list,inplace=True)"
   ]
  },
  {
   "cell_type": "code",
   "execution_count": 140,
   "metadata": {},
   "outputs": [],
   "source": [
    "data_AFSNT=add_group_count"
   ]
  },
  {
   "cell_type": "markdown",
   "metadata": {
    "ExecuteTime": {
     "end_time": "2019-09-08T13:13:21.528424Z",
     "start_time": "2019-09-08T13:12:36.384Z"
    }
   },
   "source": [
    "### add \"make marks to link departure and arrival by flights\" to test file"
   ]
  },
  {
   "cell_type": "markdown",
   "metadata": {
    "ExecuteTime": {
     "end_time": "2019-09-08T13:13:21.528424Z",
     "start_time": "2019-09-08T13:12:36.384Z"
    }
   },
   "source": [
    "출도착묶기_dly=data_AFSNT_DLY\n",
    "\n",
    "출도착묶기_dly['항공사'] = 출도착묶기_dly['항공사'].apply(lambda x: str(x))\n",
    "출도착묶기_dly['편명'] = 출도착묶기_dly['편명'].apply(lambda x: str(x))\n",
    "\n",
    "출도착묶기_dly['날짜'] = 출도착묶기_dly['날짜'].apply(lambda x: str(x)[:10])\n",
    "\n",
    "출도착묶기_dly['기호'] = 출도착묶기_dly['항공사'] + '-' + 출도착묶기_dly['편명'] + '-' + 출도착묶기_dly['날짜']\n",
    "\n",
    "data_AFSNT_DLY=출도착묶기_dly\n",
    "\n",
    "data_AFSNT_DLY['출도착'] = data_AFSNT_DLY['출도착'].apply(lambda x: int(x))\n",
    "\n",
    "Arrival_delay=data_AFSNT_DLY[data_AFSNT_DLY['출도착'] == 0]\n",
    "Departure_delay=data_AFSNT_DLY[data_AFSNT_DLY['출도착'] == 1]"
   ]
  },
  {
   "cell_type": "markdown",
   "metadata": {},
   "source": [
    "### Delete returned flights"
   ]
  },
  {
   "cell_type": "code",
   "execution_count": 141,
   "metadata": {},
   "outputs": [
    {
     "name": "stdout",
     "output_type": "stream",
     "text": [
      "15분 일찍 출발한 410편과 해당 항공편의 도착 데이터 제외\n"
     ]
    }
   ],
   "source": [
    "time_diff_over15_index = data_AFSNT[(data_AFSNT.시간차 < -15)&(data_AFSNT.출도착 == 1)].index\n",
    "time_diff_over15 = list(data_AFSNT[(data_AFSNT.시간차 < -15)&(data_AFSNT.출도착 == 1)].기호)\n",
    "time_diff_over15_arrive = data_AFSNT[(data_AFSNT.기호.isin(time_diff_over15)) & (data_AFSNT.출도착 == 0)].index\n",
    "data_AFSNT.drop(time_diff_over15_index,axis=0,inplace=True)\n",
    "data_AFSNT.drop(time_diff_over15_arrive,axis=0,inplace=True)\n",
    "print('15분 일찍 출발한 {}편과 해당 항공편의 도착 데이터 제외'.format(len(time_diff_over15)))"
   ]
  },
  {
   "cell_type": "markdown",
   "metadata": {},
   "source": [
    "---"
   ]
  },
  {
   "cell_type": "markdown",
   "metadata": {},
   "source": [
    "# Create New Features "
   ]
  },
  {
   "cell_type": "markdown",
   "metadata": {
    "ExecuteTime": {
     "end_time": "2019-09-08T13:13:21.528424Z",
     "start_time": "2019-09-08T13:12:36.384Z"
    }
   },
   "source": [
    "### rate of delay by airplanes"
   ]
  },
  {
   "cell_type": "code",
   "execution_count": 142,
   "metadata": {
    "ExecuteTime": {
     "end_time": "2019-09-08T13:13:21.528424Z",
     "start_time": "2019-09-08T13:12:36.384Z"
    }
   },
   "outputs": [],
   "source": [
    "nums_delay = pd.DataFrame(data_AFSNT[data_AFSNT.지연여부==1]['편명'].value_counts())\n",
    "\n",
    "nums_all = pd.DataFrame(data_AFSNT['편명'].value_counts())\n",
    "\n",
    "rate_delay=nums_delay/nums_all\n",
    "\n",
    "rate_delay.fillna(0, inplace = True)\n",
    "\n",
    "list_rate_delay=rate_delay.reset_index()\n",
    "\n",
    "list_rate_delay.columns = ['편명', '편별지연비율']\n",
    "\n",
    "data_AFSNT=data_AFSNT.merge(list_rate_delay, how = 'inner', on='편명')\n",
    "\n",
    "# add \"rate of delay by airplanes\" to test file\n",
    "\n",
    "data_AFSNT_DLY['편명'] = data_AFSNT_DLY['편명'].apply(lambda x: int(x))\n",
    "\n",
    "data_AFSNT_DLY=data_AFSNT_DLY.merge(list_rate_delay, how='outer')\n",
    "\n",
    "data_AFSNT_DLY=data_AFSNT_DLY[data_AFSNT_DLY.날짜.notnull()]"
   ]
  },
  {
   "cell_type": "markdown",
   "metadata": {
    "ExecuteTime": {
     "end_time": "2019-09-08T13:13:21.528424Z",
     "start_time": "2019-09-08T13:12:36.384Z"
    }
   },
   "source": [
    "### degree of congestion"
   ]
  },
  {
   "cell_type": "code",
   "execution_count": 143,
   "metadata": {
    "ExecuteTime": {
     "end_time": "2019-09-08T13:13:21.528424Z",
     "start_time": "2019-09-08T13:12:36.384Z"
    }
   },
   "outputs": [],
   "source": [
    "confusion_1=data_AFSNT.pivot_table(index=['날짜','시간대','공항', '출도착'], aggfunc='count', values='편명')\n",
    "\n",
    "confusion_2=confusion_1.reset_index(['시간대','공항', '출도착'])\n",
    "\n",
    "data_AFSNT['실제시간대']=data_AFSNT.실제시각.apply(lambda X: X.hour)\n",
    "\n",
    "confusion_3=data_AFSNT.pivot_table(index=['날짜','실제시간대','공항', '출도착'], aggfunc='count', values='편명')\n",
    "\n",
    "confusion_4=confusion_3.reset_index(['실제시간대','공항', '출도착'])\n",
    "\n",
    "confusion_2.columns = ['시간대','공항', '출도착', '계획댓수']\n",
    "\n",
    "confusion_4.columns = ['시간대','공항', '출도착', '실제댓수']\n",
    "\n",
    "confusion_4.reset_index('날짜', inplace = True)\n",
    "\n",
    "confusion_4['날짜'] = confusion_4['날짜'].apply(lambda x: str(x))\n",
    "confusion_4['시간대'] = confusion_4['시간대'].apply(lambda x: str(x))\n",
    "confusion_4['공항'] = confusion_4['공항'].apply(lambda x: str(x))\n",
    "confusion_4['출도착'] = confusion_4['출도착'].apply(lambda x: str(x))\n",
    "\n",
    "confusion_4['인덱스'] = confusion_4['날짜'] + '_' + confusion_4['시간대'] + '_' + confusion_4['공항'] + '_' + confusion_4['출도착']\n",
    "\n",
    "confusion_2.reset_index('날짜', inplace = True)\n",
    "\n",
    "confusion_2['날짜'] = confusion_2['날짜'].apply(lambda x: str(x))\n",
    "confusion_2['시간대'] = confusion_2['시간대'].apply(lambda x: str(x))\n",
    "confusion_2['공항'] = confusion_2['공항'].apply(lambda x: str(x))\n",
    "confusion_2['출도착'] = confusion_2['출도착'].apply(lambda x: str(x))\n",
    "\n",
    "confusion_2['인덱스'] = confusion_2['날짜'] + '_' + confusion_2['시간대'] + '_' + confusion_2['공항'] + '_' + confusion_2['출도착']\n",
    "\n",
    "confusion_3=confusion_2.merge(confusion_4, on = '인덱스', how = 'outer')\n",
    "\n",
    "confusion_3['차이'] = confusion_3['계획댓수'] - confusion_3['실제댓수']\n",
    "\n",
    "confusion_3.drop('인덱스', axis = 1, inplace=True)\n",
    "\n",
    "confusion_3['날짜']=confusion_3['날짜_x'].fillna(confusion_3['날짜_y'])\n",
    "\n",
    "confusion_3['시간대']=confusion_3['시간대_x'].fillna(confusion_3['시간대_y'])\n",
    "confusion_3['공항']=confusion_3['공항_x'].fillna(confusion_3['공항_y'])\n",
    "confusion_3['출도착']=confusion_3['출도착_x'].fillna(confusion_3['출도착_y'])\n",
    "\n",
    "confusion_3.drop(['날짜_x', '시간대_x', '공항_x' , '출도착_x', '날짜_y' ,'시간대_y', '공항_y' , '출도착_y'], axis = 1, inplace = True)\n",
    "\n",
    "confusion_3['날짜']=confusion_3['날짜'].apply(lambda x: x.split(' ')[0])\n",
    "\n",
    "confusion_3['날짜']=confusion_3['날짜'].apply(lambda x: datetime.datetime.strptime(x, '%Y-%m-%d'))\n",
    "\n",
    "confusion_3.set_index('날짜', inplace = True)\n",
    "\n",
    "confusion_3=confusion_3.fillna(0)\n",
    "\n",
    "confusion_3['차이'] = confusion_3['계획댓수'] - confusion_3['실제댓수']\n",
    "\n",
    "confusion_3=confusion_3.reset_index('날짜') \n",
    "\n",
    "confusion_3['월']=confusion_3.날짜.apply(lambda x:x.month)\n",
    "\n",
    "confusion_4=confusion_3.pivot_table(index = ['공항','월','시간대', '출도착'], aggfunc='mean', values='차이')\n",
    "\n",
    "confusion_4.reset_index(['시간대', '공항', '월', '출도착'], inplace = True)\n",
    "\n",
    "data_AFSNT['날짜'] = data_AFSNT['날짜'].apply(lambda x: datetime.datetime.strptime(x, '%Y-%m-%d'))\n",
    "\n",
    "data_AFSNT['월'] = data_AFSNT.날짜.apply(lambda x:x.month)\n",
    "\n",
    "confusion_4['월'] = confusion_4['월'].apply(lambda x: str(x))\n",
    "confusion_4['시간대'] = confusion_4['시간대'].apply(lambda x: str(x))\n",
    "confusion_4['공항'] = confusion_4['공항'].apply(lambda x: str(x))\n",
    "confusion_4['출도착'] = confusion_4['출도착'].apply(lambda x: str(x))\n",
    "\n",
    "data_AFSNT['월'] = data_AFSNT['월'].apply(lambda x: str(x))\n",
    "data_AFSNT['시간대'] = data_AFSNT['시간대'].apply(lambda x: str(x))\n",
    "data_AFSNT['공항'] = data_AFSNT['공항'].apply(lambda x: str(x))\n",
    "data_AFSNT['출도착'] = data_AFSNT['출도착'].apply(lambda x: str(x))\n",
    "\n",
    "confusion_final=data_AFSNT.merge(confusion_4, on = ['공항', '시간대', '출도착', '월'], how = 'outer')\n",
    "\n",
    "confusion_final=confusion_final[confusion_final.날짜.notnull()]\n",
    "\n",
    "data_AFSNT = confusion_final"
   ]
  },
  {
   "cell_type": "code",
   "execution_count": 144,
   "metadata": {},
   "outputs": [],
   "source": [
    "from datetime import datetime\n",
    "\n",
    "data_AFSNT_DLY['날짜']=data_AFSNT_DLY['날짜'].apply(lambda x: datetime.strptime(x, '%Y-%m-%d'))"
   ]
  },
  {
   "cell_type": "markdown",
   "metadata": {
    "ExecuteTime": {
     "end_time": "2019-09-08T13:13:21.528424Z",
     "start_time": "2019-09-08T13:12:36.384Z"
    }
   },
   "source": [
    "### add \"degree of congestion\" to test file"
   ]
  },
  {
   "cell_type": "code",
   "execution_count": 145,
   "metadata": {
    "ExecuteTime": {
     "end_time": "2019-09-08T13:13:21.528424Z",
     "start_time": "2019-09-08T13:12:36.384Z"
    }
   },
   "outputs": [],
   "source": [
    "data_AFSNT_DLY['월'] = data_AFSNT_DLY.날짜.apply(lambda x:x.month)\n",
    "\n",
    "data_AFSNT_DLY['월'] = data_AFSNT_DLY['월'].apply(lambda x: str(x))\n",
    "\n",
    "confusion_dly=data_AFSNT_DLY.merge(confusion_4, on = ['공항', '시간대', '출도착', '월'], how = 'outer')\n",
    "\n",
    "confusion_dly=confusion_dly[confusion_dly.날짜.notnull()]\n",
    "\n",
    "confusion_dly.차이.fillna(0,inplace=True)\n",
    "\n",
    "data_AFSNT_DLY=confusion_dly"
   ]
  },
  {
   "cell_type": "markdown",
   "metadata": {
    "ExecuteTime": {
     "end_time": "2019-09-08T13:13:21.528424Z",
     "start_time": "2019-09-08T13:12:36.384Z"
    }
   },
   "source": [
    "### rate of delay by airports"
   ]
  },
  {
   "cell_type": "code",
   "execution_count": 146,
   "metadata": {
    "ExecuteTime": {
     "end_time": "2019-09-08T13:13:21.528424Z",
     "start_time": "2019-09-08T13:12:36.384Z"
    }
   },
   "outputs": [],
   "source": [
    "set_delay=data_AFSNT[data_AFSNT.지연여부 == 1]\n",
    "\n",
    "delay_rate_airport_1=data_AFSNT.pivot_table(index=['공항', '시간대'], aggfunc='count' ,values='지연여부')\n",
    "\n",
    "delay_rate_airport_2=set_delay.pivot_table(index=['공항', '시간대'], aggfunc='count' ,values='지연여부')\n",
    "\n",
    "delay_rate_airport_1.reset_index(['공항', '시간대'], inplace = True)\n",
    "delay_rate_airport_2.reset_index(['공항', '시간대'], inplace = True)\n",
    "\n",
    "delay_rate_airport_3=delay_rate_airport_1.merge(delay_rate_airport_2, on = ['공항', '시간대'], how = 'outer').fillna(0)\n",
    "\n",
    "delay_rate_airport_3.set_index(['공항', '시간대'], inplace = True)\n",
    "\n",
    "delay_rate_airport_3['지연비율'] = delay_rate_airport_3['지연여부_y'] / delay_rate_airport_3['지연여부_x']\n",
    "\n",
    "delay_rate_airport_3.drop(['지연여부_x', '지연여부_y'], axis=1, inplace=True)\n",
    "\n",
    "delay_rate_airport_3.reset_index(['공항', '시간대'],inplace= True)\n",
    "\n",
    "delay_rate_airport_3.columns = ['공항', '시간대', '공항별/시간별지연비율']\n",
    "\n",
    "data_AFSNT = data_AFSNT.merge(delay_rate_airport_3, on=['공항', '시간대'], how='inner')"
   ]
  },
  {
   "cell_type": "markdown",
   "metadata": {
    "ExecuteTime": {
     "end_time": "2019-09-08T13:13:21.528424Z",
     "start_time": "2019-09-08T13:12:36.384Z"
    }
   },
   "source": [
    "### degree of congretion_accumulated"
   ]
  },
  {
   "cell_type": "code",
   "execution_count": 147,
   "metadata": {
    "ExecuteTime": {
     "end_time": "2019-09-08T13:13:21.528424Z",
     "start_time": "2019-09-08T13:12:36.384Z"
    }
   },
   "outputs": [],
   "source": [
    "data_AFSNT['월'] = data_AFSNT['월'].apply(lambda x: int(x))\n",
    "data_AFSNT['시간대'] = data_AFSNT['시간대'].apply(lambda x: int(x))\n",
    "data_AFSNT['공항'] = data_AFSNT['공항'].apply(lambda x: int(x))\n",
    "data_AFSNT['출도착'] = data_AFSNT['출도착'].apply(lambda x: int(x))\n",
    "\n",
    "accumulation=data_AFSNT.pivot_table(index=['공항','출도착', '월', '시간대'], values='차이')\n",
    "\n",
    "시각0 = []\n",
    "for i in range(0,15):  # 공항 \n",
    "    for j in range(0,2):  # 출도착\n",
    "        for x in list({x for x,y in list(accumulation.loc[i].loc[j].index)}):\n",
    "            if 0 in accumulation.loc[i].loc[j].loc[x].index:\n",
    "#                print(i,j,x)\n",
    "                accumulation.loc[i].loc[j].loc[x].loc[0]['차이'] = 0\n",
    "                시각0.append(accumulation.loc[i].loc[j].loc[x].loc[0]['차이'])\n",
    "\n",
    "diff_list = []\n",
    "for i in range(0,15):  # 공항 \n",
    "#    print(i)\n",
    "    for j in range(0,2):  # 출도착\n",
    "#        print(str(j)+'**')\n",
    "        for x in list({x for x,y in list(accumulation.loc[i].loc[j].index)}):  # 월\n",
    "            diff_list.append(accumulation.loc[i].loc[j].loc[x]['차이'].cumsum())\n",
    "            \n",
    "\n",
    "diff_list_final = []\n",
    "for num in range(0, len(diff_list)):\n",
    "    for number in diff_list[num].index:\n",
    "        diff_list_final.append(diff_list[num][number])\n",
    "\n",
    "accumulation.reset_index(['공항', '출도착', '월', '시간대'], inplace = True)\n",
    "\n",
    "accumulation['차이누적'] = diff_list_final\n",
    "\n",
    "accumulation.drop('차이', axis = 1, inplace=True)\n",
    "\n",
    "data_AFSNT = data_AFSNT.merge(accumulation, on = ['공항', '출도착', '월', '시간대'], how = 'inner')\n",
    "\n",
    "# add \"degree of congretion_accumulated\" to test file\n",
    "\n",
    "data_AFSNT_DLY['월'] = data_AFSNT_DLY['월'].apply(lambda x: int(x))\n",
    "data_AFSNT_DLY['시간대'] = data_AFSNT_DLY['시간대'].apply(lambda x: int(x))\n",
    "data_AFSNT_DLY['공항'] = data_AFSNT_DLY['공항'].apply(lambda x: int(x))\n",
    "data_AFSNT_DLY['출도착'] = data_AFSNT_DLY['출도착'].apply(lambda x: int(x))\n",
    "\n",
    "accumulation_delay=data_AFSNT_DLY.pivot_table(index=['공항','출도착', '월', '시간대'], values='차이')\n",
    "\n",
    "시각0 = []\n",
    "for i in range(0,15):  # 공항 \n",
    "    for j in range(0,2):  # 출도착\n",
    "        for x in list({x for x,y in list(accumulation_delay.loc[i].loc[j].index)}):\n",
    "            if 0 in accumulation_delay.loc[i].loc[j].loc[x].index:\n",
    "#                print(i,j,x)\n",
    "                accumulation_delay.loc[i].loc[j].loc[x].loc[0]['차이'] = 0\n",
    "                시각0.append(accumulation_delay.loc[i].loc[j].loc[x].loc[0]['차이'])\n",
    "        \n",
    "diff_list = []\n",
    "for i in range(0,15):  # 공항 \n",
    "#    print(i)\n",
    "    for j in range(0,2):  # 출도착\n",
    "#        print(str(j)+'**')\n",
    "        for x in list({x for x,y in list(accumulation_delay.loc[i].loc[j].index)}):  # 월\n",
    "            diff_list.append(accumulation_delay.loc[i].loc[j].loc[x]['차이'].cumsum())\n",
    "                    \n",
    "diff_list_final = []\n",
    "for num in range(0, len(diff_list)):\n",
    "    for number in diff_list[num].index:\n",
    "        diff_list_final.append(diff_list[num][number])\n",
    "        \n",
    "accumulation_delay.reset_index(['공항', '출도착', '월', '시간대'], inplace = True)\n",
    "\n",
    "accumulation_delay['차이누적'] = diff_list_final\n",
    "\n",
    "accumulation_delay.drop('차이', axis = 1, inplace=True)\n",
    "\n",
    "data_AFSNT_DLY = data_AFSNT_DLY.merge(accumulation_delay, on = ['공항', '출도착', '월', '시간대'], how = 'inner')"
   ]
  },
  {
   "cell_type": "markdown",
   "metadata": {
    "ExecuteTime": {
     "end_time": "2019-09-08T13:13:21.528424Z",
     "start_time": "2019-09-08T13:12:36.384Z"
    }
   },
   "source": [
    "### mean of differences of time by airplanes"
   ]
  },
  {
   "cell_type": "code",
   "execution_count": 148,
   "metadata": {
    "ExecuteTime": {
     "end_time": "2019-09-08T13:13:21.528424Z",
     "start_time": "2019-09-08T13:12:36.384Z"
    }
   },
   "outputs": [],
   "source": [
    "average_diff=data_AFSNT.pivot_table(index='편명', aggfunc='mean', values='시간차')\n",
    "\n",
    "average_diff.reset_index('편명', inplace=True)\n",
    "\n",
    "average_diff.columns = ['편명', '편별시간차이평균']\n",
    "\n",
    "data_AFSNT=data_AFSNT.merge(average_diff, how ='inner')\n",
    "\n",
    "# 편별시간차이평균_DLY (add to test file)\n",
    "\n",
    "data_AFSNT_DLY=data_AFSNT_DLY.merge(average_diff, how='outer')\n",
    "\n",
    "data_AFSNT_DLY=data_AFSNT_DLY[data_AFSNT_DLY.날짜.notnull()]\n",
    "\n",
    "data_AFSNT_DLY.편별시간차이평균.fillna(0, inplace=True)"
   ]
  },
  {
   "cell_type": "markdown",
   "metadata": {
    "ExecuteTime": {
     "end_time": "2019-09-08T13:13:21.528424Z",
     "start_time": "2019-09-08T13:12:36.384Z"
    }
   },
   "source": [
    "### Whether"
   ]
  },
  {
   "cell_type": "code",
   "execution_count": 149,
   "metadata": {
    "ExecuteTime": {
     "end_time": "2019-09-08T13:13:21.528424Z",
     "start_time": "2019-09-08T13:12:36.384Z"
    }
   },
   "outputs": [],
   "source": [
    "weather = pd.read_csv('data/weather_superfinal.csv',encoding='cp949', engine = 'python')\n",
    "\n",
    "weather.drop('Unnamed: 0', axis = 1, inplace = True)\n",
    "\n",
    "le = LabelEncoder()\n",
    "le.fit(weather.공항)\n",
    "weather['공항'] = le.transform(weather.공항)\n",
    "\n",
    "data_AFSNT['월일'] = data_AFSNT['날짜'].apply(lambda x: str(x)[5:])\n",
    "\n",
    "data_AFSNT['월일'] = data_AFSNT['월일'].apply(lambda x: x[:5])\n",
    "\n",
    "data_AFSNT = pd.merge(data_AFSNT,weather, on = ['월일', '공항', '시간대'])\n",
    "\n",
    "# 기상_DLY (add to test file)\n",
    "\n",
    "data_AFSNT_DLY['월일'] = data_AFSNT_DLY['날짜'].apply(lambda x: str(x)[5:])\n",
    "\n",
    "data_AFSNT_DLY['월일'] = data_AFSNT_DLY['월일'].apply(lambda x: x[:5])\n",
    "\n",
    "data_AFSNT_DLY = pd.merge(data_AFSNT_DLY,weather, on = ['월일', '공항', '시간대'])"
   ]
  },
  {
   "cell_type": "markdown",
   "metadata": {
    "ExecuteTime": {
     "end_time": "2019-09-08T13:13:21.528424Z",
     "start_time": "2019-09-08T13:12:36.384Z"
    }
   },
   "source": [
    "### On-time start rate"
   ]
  },
  {
   "cell_type": "code",
   "execution_count": 150,
   "metadata": {
    "ExecuteTime": {
     "end_time": "2019-09-08T13:13:21.528424Z",
     "start_time": "2019-09-08T13:12:36.384Z"
    }
   },
   "outputs": [],
   "source": [
    "Arrival=data_AFSNT[data_AFSNT.출도착 == 0]\n",
    "Departure=data_AFSNT[data_AFSNT.출도착 == 1]\n",
    "\n",
    "Departure['날짜'] = pd.to_datetime(Departure['날짜'])\n",
    "\n",
    "Departure['요일'] = Departure['날짜'].apply(lambda x : x.strftime('%a'))\n",
    "\n",
    "count_entire = Departure.pivot_table(index = ['공항', '요일'], aggfunc = 'count', values = ['시간차'])\n",
    "\n",
    "count_15 = Departure[(Departure['시간차'] >-10) & \\\n",
    "                     (Departure['시간차']<15)].pivot_table(index = ['공항', '요일'], aggfunc = 'count', values = ['시간차'])\n",
    "\n",
    "count_15 = count_15.reset_index(['공항', '요일'])\n",
    "\n",
    "count_entire = count_entire.reset_index(['공항', '요일'])\n",
    "\n",
    "on_time_rate = pd.merge(count_15, count_entire, on = ['공항', '요일'])\n",
    "\n",
    "on_time_rate['정시출발율'] = round(on_time_rate['시간차_x']/on_time_rate['시간차_y'],3)\n",
    "\n",
    "on_time_rate.drop(['시간차_x', '시간차_y'], axis = 1, inplace = True)\n",
    "\n",
    "Departure = pd.merge(Departure, on_time_rate, on = ['공항', '요일'])\n",
    "\n",
    "# 정시출발율_DLY (add to test file)\n",
    "\n",
    "Departure_delay['날짜'] = pd.to_datetime(Departure_delay['날짜'])\n",
    "\n",
    "Departure_delay['요일'] = Departure_delay['날짜'].apply(lambda x : x.strftime('%a'))\n",
    "\n",
    "Departure_delay = pd.merge(Departure_delay, on_time_rate, on = ['공항', '요일'])"
   ]
  },
  {
   "cell_type": "markdown",
   "metadata": {},
   "source": [
    "### rate of delay by airplanes"
   ]
  },
  {
   "cell_type": "code",
   "execution_count": 151,
   "metadata": {
    "ExecuteTime": {
     "end_time": "2019-09-08T13:13:21.529692Z",
     "start_time": "2019-09-08T13:12:36.388Z"
    }
   },
   "outputs": [],
   "source": [
    "dly_flight_cnt = pd.DataFrame(data_AFSNT[data_AFSNT.지연여부==1]['편명'].value_counts())\n",
    "total_flight_cnt = pd.DataFrame(data_AFSNT['편명'].value_counts())\n",
    "dly_flight_rate = dly_flight_cnt / total_flight_cnt\n",
    "dly_flight_rate.fillna(0, inplace = True)"
   ]
  },
  {
   "cell_type": "code",
   "execution_count": 152,
   "metadata": {
    "ExecuteTime": {
     "end_time": "2019-09-08T13:13:21.532432Z",
     "start_time": "2019-09-08T13:12:36.394Z"
    }
   },
   "outputs": [],
   "source": [
    "def find_flight_delay_rate(x):\n",
    "    if x in dly_flight_rate.index:\n",
    "        return round(dly_flight_rate.loc[x].values[0],3)\n",
    "    else:\n",
    "        return 0"
   ]
  },
  {
   "cell_type": "code",
   "execution_count": 153,
   "metadata": {
    "ExecuteTime": {
     "end_time": "2019-09-08T13:13:21.533772Z",
     "start_time": "2019-09-08T13:12:36.398Z"
    }
   },
   "outputs": [],
   "source": [
    "data_AFSNT['편명별 지연율'] = data_AFSNT['편명'].map(lambda x : find_flight_delay_rate(x))\n",
    "data_AFSNT_DLY['편명별 지연율'] = data_AFSNT_DLY['편명'].map(lambda x : find_flight_delay_rate(x))"
   ]
  },
  {
   "cell_type": "markdown",
   "metadata": {},
   "source": [
    "### final table"
   ]
  },
  {
   "cell_type": "code",
   "execution_count": 154,
   "metadata": {
    "ExecuteTime": {
     "end_time": "2019-09-08T13:13:21.535213Z",
     "start_time": "2019-09-08T13:12:36.403Z"
    }
   },
   "outputs": [
    {
     "data": {
      "text/html": [
       "<div>\n",
       "<style scoped>\n",
       "    .dataframe tbody tr th:only-of-type {\n",
       "        vertical-align: middle;\n",
       "    }\n",
       "\n",
       "    .dataframe tbody tr th {\n",
       "        vertical-align: top;\n",
       "    }\n",
       "\n",
       "    .dataframe thead th {\n",
       "        text-align: right;\n",
       "    }\n",
       "</style>\n",
       "<table border=\"1\" class=\"dataframe\">\n",
       "  <thead>\n",
       "    <tr style=\"text-align: right;\">\n",
       "      <th></th>\n",
       "      <th>index</th>\n",
       "      <th>결항사유</th>\n",
       "      <th>결항여부</th>\n",
       "      <th>계획시각</th>\n",
       "      <th>공항</th>\n",
       "      <th>날짜</th>\n",
       "      <th>등록기호</th>\n",
       "      <th>부정기편</th>\n",
       "      <th>상대공항</th>\n",
       "      <th>시간대</th>\n",
       "      <th>시간차</th>\n",
       "      <th>실제시각</th>\n",
       "      <th>지연사유</th>\n",
       "      <th>지연여부</th>\n",
       "      <th>출도착</th>\n",
       "      <th>편명</th>\n",
       "      <th>항공사</th>\n",
       "      <th>기호</th>\n",
       "      <th>기호값</th>\n",
       "      <th>편별지연비율</th>\n",
       "      <th>실제시간대</th>\n",
       "      <th>월</th>\n",
       "      <th>차이</th>\n",
       "      <th>공항별/시간별지연비율</th>\n",
       "      <th>차이누적</th>\n",
       "      <th>편별시간차이평균</th>\n",
       "      <th>월일</th>\n",
       "      <th>최저_기온</th>\n",
       "      <th>최저_습도</th>\n",
       "      <th>최저_시정</th>\n",
       "      <th>최저_풍속</th>\n",
       "      <th>최저_해면기압</th>\n",
       "      <th>최저_현지기압</th>\n",
       "      <th>최고_기온</th>\n",
       "      <th>최고_습도</th>\n",
       "      <th>최고_시정</th>\n",
       "      <th>최고_풍속</th>\n",
       "      <th>최고_해면기압</th>\n",
       "      <th>최고_현지기압</th>\n",
       "      <th>편명별 지연율</th>\n",
       "    </tr>\n",
       "  </thead>\n",
       "  <tbody>\n",
       "    <tr>\n",
       "      <th>0</th>\n",
       "      <td>977372.0</td>\n",
       "      <td>21.0</td>\n",
       "      <td>0.0</td>\n",
       "      <td>1900-01-01 19:00:00</td>\n",
       "      <td>5</td>\n",
       "      <td>2019-06-09</td>\n",
       "      <td>357</td>\n",
       "      <td>0.0</td>\n",
       "      <td>12.0</td>\n",
       "      <td>19</td>\n",
       "      <td>2.0</td>\n",
       "      <td>1900-01-01 19:02:00</td>\n",
       "      <td>34.0</td>\n",
       "      <td>0.0</td>\n",
       "      <td>0</td>\n",
       "      <td>1541</td>\n",
       "      <td>7</td>\n",
       "      <td>7-1541-357-2019-6-9</td>\n",
       "      <td>2.0</td>\n",
       "      <td>0.091713</td>\n",
       "      <td>19.0</td>\n",
       "      <td>6</td>\n",
       "      <td>0.413793</td>\n",
       "      <td>0.043771</td>\n",
       "      <td>0.413793</td>\n",
       "      <td>12.962431</td>\n",
       "      <td>06-09</td>\n",
       "      <td>23.9</td>\n",
       "      <td>36.0</td>\n",
       "      <td>800.0</td>\n",
       "      <td>1.4</td>\n",
       "      <td>10042.0</td>\n",
       "      <td>9875.0</td>\n",
       "      <td>28.2</td>\n",
       "      <td>52.0</td>\n",
       "      <td>1000.0</td>\n",
       "      <td>3.5</td>\n",
       "      <td>10083.0</td>\n",
       "      <td>9917.0</td>\n",
       "      <td>0.092</td>\n",
       "    </tr>\n",
       "    <tr>\n",
       "      <th>1</th>\n",
       "      <td>767563.0</td>\n",
       "      <td>21.0</td>\n",
       "      <td>0.0</td>\n",
       "      <td>1900-01-01 19:00:00</td>\n",
       "      <td>5</td>\n",
       "      <td>2018-06-09</td>\n",
       "      <td>295</td>\n",
       "      <td>0.0</td>\n",
       "      <td>12.0</td>\n",
       "      <td>19</td>\n",
       "      <td>3.0</td>\n",
       "      <td>1900-01-01 19:03:00</td>\n",
       "      <td>34.0</td>\n",
       "      <td>0.0</td>\n",
       "      <td>0</td>\n",
       "      <td>1541</td>\n",
       "      <td>7</td>\n",
       "      <td>7-1541-295-2018-6-9</td>\n",
       "      <td>2.0</td>\n",
       "      <td>0.091713</td>\n",
       "      <td>19.0</td>\n",
       "      <td>6</td>\n",
       "      <td>0.413793</td>\n",
       "      <td>0.043771</td>\n",
       "      <td>0.413793</td>\n",
       "      <td>12.962431</td>\n",
       "      <td>06-09</td>\n",
       "      <td>23.9</td>\n",
       "      <td>36.0</td>\n",
       "      <td>800.0</td>\n",
       "      <td>1.4</td>\n",
       "      <td>10042.0</td>\n",
       "      <td>9875.0</td>\n",
       "      <td>28.2</td>\n",
       "      <td>52.0</td>\n",
       "      <td>1000.0</td>\n",
       "      <td>3.5</td>\n",
       "      <td>10083.0</td>\n",
       "      <td>9917.0</td>\n",
       "      <td>0.092</td>\n",
       "    </tr>\n",
       "    <tr>\n",
       "      <th>2</th>\n",
       "      <td>376593.0</td>\n",
       "      <td>21.0</td>\n",
       "      <td>0.0</td>\n",
       "      <td>1900-01-01 19:00:00</td>\n",
       "      <td>5</td>\n",
       "      <td>2017-06-09</td>\n",
       "      <td>215</td>\n",
       "      <td>0.0</td>\n",
       "      <td>12.0</td>\n",
       "      <td>19</td>\n",
       "      <td>8.0</td>\n",
       "      <td>1900-01-01 19:08:00</td>\n",
       "      <td>34.0</td>\n",
       "      <td>0.0</td>\n",
       "      <td>0</td>\n",
       "      <td>1541</td>\n",
       "      <td>7</td>\n",
       "      <td>7-1541-215-2017-6-9</td>\n",
       "      <td>2.0</td>\n",
       "      <td>0.091713</td>\n",
       "      <td>19.0</td>\n",
       "      <td>6</td>\n",
       "      <td>0.413793</td>\n",
       "      <td>0.043771</td>\n",
       "      <td>0.413793</td>\n",
       "      <td>12.962431</td>\n",
       "      <td>06-09</td>\n",
       "      <td>23.9</td>\n",
       "      <td>36.0</td>\n",
       "      <td>800.0</td>\n",
       "      <td>1.4</td>\n",
       "      <td>10042.0</td>\n",
       "      <td>9875.0</td>\n",
       "      <td>28.2</td>\n",
       "      <td>52.0</td>\n",
       "      <td>1000.0</td>\n",
       "      <td>3.5</td>\n",
       "      <td>10083.0</td>\n",
       "      <td>9917.0</td>\n",
       "      <td>0.092</td>\n",
       "    </tr>\n",
       "    <tr>\n",
       "      <th>3</th>\n",
       "      <td>977253.0</td>\n",
       "      <td>21.0</td>\n",
       "      <td>0.0</td>\n",
       "      <td>1900-01-01 19:00:00</td>\n",
       "      <td>5</td>\n",
       "      <td>2019-06-08</td>\n",
       "      <td>357</td>\n",
       "      <td>0.0</td>\n",
       "      <td>12.0</td>\n",
       "      <td>19</td>\n",
       "      <td>-5.0</td>\n",
       "      <td>1900-01-01 18:55:00</td>\n",
       "      <td>34.0</td>\n",
       "      <td>0.0</td>\n",
       "      <td>0</td>\n",
       "      <td>1541</td>\n",
       "      <td>7</td>\n",
       "      <td>7-1541-357-2019-6-8</td>\n",
       "      <td>2.0</td>\n",
       "      <td>0.091713</td>\n",
       "      <td>18.0</td>\n",
       "      <td>6</td>\n",
       "      <td>0.413793</td>\n",
       "      <td>0.043771</td>\n",
       "      <td>0.413793</td>\n",
       "      <td>12.962431</td>\n",
       "      <td>06-08</td>\n",
       "      <td>23.1</td>\n",
       "      <td>39.0</td>\n",
       "      <td>828.0</td>\n",
       "      <td>1.3</td>\n",
       "      <td>10046.0</td>\n",
       "      <td>9878.0</td>\n",
       "      <td>25.1</td>\n",
       "      <td>53.0</td>\n",
       "      <td>1000.0</td>\n",
       "      <td>1.8</td>\n",
       "      <td>10080.0</td>\n",
       "      <td>9912.0</td>\n",
       "      <td>0.092</td>\n",
       "    </tr>\n",
       "    <tr>\n",
       "      <th>4</th>\n",
       "      <td>376545.0</td>\n",
       "      <td>21.0</td>\n",
       "      <td>0.0</td>\n",
       "      <td>1900-01-01 19:00:00</td>\n",
       "      <td>5</td>\n",
       "      <td>2017-06-08</td>\n",
       "      <td>215</td>\n",
       "      <td>0.0</td>\n",
       "      <td>12.0</td>\n",
       "      <td>19</td>\n",
       "      <td>3.0</td>\n",
       "      <td>1900-01-01 19:03:00</td>\n",
       "      <td>34.0</td>\n",
       "      <td>0.0</td>\n",
       "      <td>0</td>\n",
       "      <td>1541</td>\n",
       "      <td>7</td>\n",
       "      <td>7-1541-215-2017-6-8</td>\n",
       "      <td>2.0</td>\n",
       "      <td>0.091713</td>\n",
       "      <td>19.0</td>\n",
       "      <td>6</td>\n",
       "      <td>0.413793</td>\n",
       "      <td>0.043771</td>\n",
       "      <td>0.413793</td>\n",
       "      <td>12.962431</td>\n",
       "      <td>06-08</td>\n",
       "      <td>23.1</td>\n",
       "      <td>39.0</td>\n",
       "      <td>828.0</td>\n",
       "      <td>1.3</td>\n",
       "      <td>10046.0</td>\n",
       "      <td>9878.0</td>\n",
       "      <td>25.1</td>\n",
       "      <td>53.0</td>\n",
       "      <td>1000.0</td>\n",
       "      <td>1.8</td>\n",
       "      <td>10080.0</td>\n",
       "      <td>9912.0</td>\n",
       "      <td>0.092</td>\n",
       "    </tr>\n",
       "  </tbody>\n",
       "</table>\n",
       "</div>"
      ],
      "text/plain": [
       "      index  결항사유  결항여부                계획시각  공항         날짜 등록기호  부정기편  상대공항  \\\n",
       "0  977372.0  21.0   0.0 1900-01-01 19:00:00   5 2019-06-09  357   0.0  12.0   \n",
       "1  767563.0  21.0   0.0 1900-01-01 19:00:00   5 2018-06-09  295   0.0  12.0   \n",
       "2  376593.0  21.0   0.0 1900-01-01 19:00:00   5 2017-06-09  215   0.0  12.0   \n",
       "3  977253.0  21.0   0.0 1900-01-01 19:00:00   5 2019-06-08  357   0.0  12.0   \n",
       "4  376545.0  21.0   0.0 1900-01-01 19:00:00   5 2017-06-08  215   0.0  12.0   \n",
       "\n",
       "   시간대  시간차                실제시각  지연사유  지연여부  출도착    편명 항공사  \\\n",
       "0   19  2.0 1900-01-01 19:02:00  34.0   0.0    0  1541   7   \n",
       "1   19  3.0 1900-01-01 19:03:00  34.0   0.0    0  1541   7   \n",
       "2   19  8.0 1900-01-01 19:08:00  34.0   0.0    0  1541   7   \n",
       "3   19 -5.0 1900-01-01 18:55:00  34.0   0.0    0  1541   7   \n",
       "4   19  3.0 1900-01-01 19:03:00  34.0   0.0    0  1541   7   \n",
       "\n",
       "                    기호  기호값    편별지연비율  실제시간대  월        차이  공항별/시간별지연비율  \\\n",
       "0  7-1541-357-2019-6-9  2.0  0.091713   19.0  6  0.413793     0.043771   \n",
       "1  7-1541-295-2018-6-9  2.0  0.091713   19.0  6  0.413793     0.043771   \n",
       "2  7-1541-215-2017-6-9  2.0  0.091713   19.0  6  0.413793     0.043771   \n",
       "3  7-1541-357-2019-6-8  2.0  0.091713   18.0  6  0.413793     0.043771   \n",
       "4  7-1541-215-2017-6-8  2.0  0.091713   19.0  6  0.413793     0.043771   \n",
       "\n",
       "       차이누적   편별시간차이평균     월일  최저_기온  최저_습도  최저_시정  최저_풍속  최저_해면기압  최저_현지기압  \\\n",
       "0  0.413793  12.962431  06-09   23.9   36.0  800.0    1.4  10042.0   9875.0   \n",
       "1  0.413793  12.962431  06-09   23.9   36.0  800.0    1.4  10042.0   9875.0   \n",
       "2  0.413793  12.962431  06-09   23.9   36.0  800.0    1.4  10042.0   9875.0   \n",
       "3  0.413793  12.962431  06-08   23.1   39.0  828.0    1.3  10046.0   9878.0   \n",
       "4  0.413793  12.962431  06-08   23.1   39.0  828.0    1.3  10046.0   9878.0   \n",
       "\n",
       "   최고_기온  최고_습도   최고_시정  최고_풍속  최고_해면기압  최고_현지기압  편명별 지연율  \n",
       "0   28.2   52.0  1000.0    3.5  10083.0   9917.0    0.092  \n",
       "1   28.2   52.0  1000.0    3.5  10083.0   9917.0    0.092  \n",
       "2   28.2   52.0  1000.0    3.5  10083.0   9917.0    0.092  \n",
       "3   25.1   53.0  1000.0    1.8  10080.0   9912.0    0.092  \n",
       "4   25.1   53.0  1000.0    1.8  10080.0   9912.0    0.092  "
      ]
     },
     "execution_count": 154,
     "metadata": {},
     "output_type": "execute_result"
    }
   ],
   "source": [
    "data_AFSNT.head()"
   ]
  },
  {
   "cell_type": "code",
   "execution_count": 155,
   "metadata": {
    "ExecuteTime": {
     "end_time": "2019-09-08T13:13:21.536599Z",
     "start_time": "2019-09-08T13:12:36.406Z"
    }
   },
   "outputs": [
    {
     "data": {
      "text/html": [
       "<div>\n",
       "<style scoped>\n",
       "    .dataframe tbody tr th:only-of-type {\n",
       "        vertical-align: middle;\n",
       "    }\n",
       "\n",
       "    .dataframe tbody tr th {\n",
       "        vertical-align: top;\n",
       "    }\n",
       "\n",
       "    .dataframe thead th {\n",
       "        text-align: right;\n",
       "    }\n",
       "</style>\n",
       "<table border=\"1\" class=\"dataframe\">\n",
       "  <thead>\n",
       "    <tr style=\"text-align: right;\">\n",
       "      <th></th>\n",
       "      <th>날짜</th>\n",
       "      <th>공항</th>\n",
       "      <th>상대공항</th>\n",
       "      <th>항공사</th>\n",
       "      <th>편명</th>\n",
       "      <th>출도착</th>\n",
       "      <th>계획시각</th>\n",
       "      <th>지연여부</th>\n",
       "      <th>지연확률</th>\n",
       "      <th>시간대</th>\n",
       "      <th>편별지연비율</th>\n",
       "      <th>월</th>\n",
       "      <th>차이</th>\n",
       "      <th>차이누적</th>\n",
       "      <th>편별시간차이평균</th>\n",
       "      <th>월일</th>\n",
       "      <th>최저_기온</th>\n",
       "      <th>최저_습도</th>\n",
       "      <th>최저_시정</th>\n",
       "      <th>최저_풍속</th>\n",
       "      <th>최저_해면기압</th>\n",
       "      <th>최저_현지기압</th>\n",
       "      <th>최고_기온</th>\n",
       "      <th>최고_습도</th>\n",
       "      <th>최고_시정</th>\n",
       "      <th>최고_풍속</th>\n",
       "      <th>최고_해면기압</th>\n",
       "      <th>최고_현지기압</th>\n",
       "      <th>편명별 지연율</th>\n",
       "    </tr>\n",
       "  </thead>\n",
       "  <tbody>\n",
       "    <tr>\n",
       "      <th>0</th>\n",
       "      <td>2019-09-16</td>\n",
       "      <td>2</td>\n",
       "      <td>12</td>\n",
       "      <td>7</td>\n",
       "      <td>1450.0</td>\n",
       "      <td>0.0</td>\n",
       "      <td>1900-01-01 09:05:00</td>\n",
       "      <td>NaN</td>\n",
       "      <td>NaN</td>\n",
       "      <td>9</td>\n",
       "      <td>NaN</td>\n",
       "      <td>9.0</td>\n",
       "      <td>1.35</td>\n",
       "      <td>0.416667</td>\n",
       "      <td>0.0</td>\n",
       "      <td>09-16</td>\n",
       "      <td>21.6</td>\n",
       "      <td>66.0</td>\n",
       "      <td>1000.0</td>\n",
       "      <td>2.0</td>\n",
       "      <td>10143.0</td>\n",
       "      <td>10138.0</td>\n",
       "      <td>25.6</td>\n",
       "      <td>85.0</td>\n",
       "      <td>1000.0</td>\n",
       "      <td>5.0</td>\n",
       "      <td>10190.0</td>\n",
       "      <td>10187.0</td>\n",
       "      <td>0</td>\n",
       "    </tr>\n",
       "    <tr>\n",
       "      <th>1</th>\n",
       "      <td>2019-09-16</td>\n",
       "      <td>2</td>\n",
       "      <td>12</td>\n",
       "      <td>7</td>\n",
       "      <td>1454.0</td>\n",
       "      <td>0.0</td>\n",
       "      <td>1900-01-01 09:55:00</td>\n",
       "      <td>NaN</td>\n",
       "      <td>NaN</td>\n",
       "      <td>9</td>\n",
       "      <td>NaN</td>\n",
       "      <td>9.0</td>\n",
       "      <td>1.35</td>\n",
       "      <td>0.416667</td>\n",
       "      <td>0.0</td>\n",
       "      <td>09-16</td>\n",
       "      <td>21.6</td>\n",
       "      <td>66.0</td>\n",
       "      <td>1000.0</td>\n",
       "      <td>2.0</td>\n",
       "      <td>10143.0</td>\n",
       "      <td>10138.0</td>\n",
       "      <td>25.6</td>\n",
       "      <td>85.0</td>\n",
       "      <td>1000.0</td>\n",
       "      <td>5.0</td>\n",
       "      <td>10190.0</td>\n",
       "      <td>10187.0</td>\n",
       "      <td>0</td>\n",
       "    </tr>\n",
       "    <tr>\n",
       "      <th>2</th>\n",
       "      <td>2019-09-16</td>\n",
       "      <td>2</td>\n",
       "      <td>6</td>\n",
       "      <td>1</td>\n",
       "      <td>1333.0</td>\n",
       "      <td>0.0</td>\n",
       "      <td>1900-01-01 09:25:00</td>\n",
       "      <td>NaN</td>\n",
       "      <td>NaN</td>\n",
       "      <td>9</td>\n",
       "      <td>NaN</td>\n",
       "      <td>9.0</td>\n",
       "      <td>1.35</td>\n",
       "      <td>0.416667</td>\n",
       "      <td>0.0</td>\n",
       "      <td>09-16</td>\n",
       "      <td>21.6</td>\n",
       "      <td>66.0</td>\n",
       "      <td>1000.0</td>\n",
       "      <td>2.0</td>\n",
       "      <td>10143.0</td>\n",
       "      <td>10138.0</td>\n",
       "      <td>25.6</td>\n",
       "      <td>85.0</td>\n",
       "      <td>1000.0</td>\n",
       "      <td>5.0</td>\n",
       "      <td>10190.0</td>\n",
       "      <td>10187.0</td>\n",
       "      <td>0</td>\n",
       "    </tr>\n",
       "    <tr>\n",
       "      <th>3</th>\n",
       "      <td>2019-09-16</td>\n",
       "      <td>2</td>\n",
       "      <td>11</td>\n",
       "      <td>1</td>\n",
       "      <td>1319.0</td>\n",
       "      <td>0.0</td>\n",
       "      <td>1900-01-01 09:50:00</td>\n",
       "      <td>NaN</td>\n",
       "      <td>NaN</td>\n",
       "      <td>9</td>\n",
       "      <td>NaN</td>\n",
       "      <td>9.0</td>\n",
       "      <td>1.35</td>\n",
       "      <td>0.416667</td>\n",
       "      <td>0.0</td>\n",
       "      <td>09-16</td>\n",
       "      <td>21.6</td>\n",
       "      <td>66.0</td>\n",
       "      <td>1000.0</td>\n",
       "      <td>2.0</td>\n",
       "      <td>10143.0</td>\n",
       "      <td>10138.0</td>\n",
       "      <td>25.6</td>\n",
       "      <td>85.0</td>\n",
       "      <td>1000.0</td>\n",
       "      <td>5.0</td>\n",
       "      <td>10190.0</td>\n",
       "      <td>10187.0</td>\n",
       "      <td>0</td>\n",
       "    </tr>\n",
       "    <tr>\n",
       "      <th>4</th>\n",
       "      <td>2019-09-16</td>\n",
       "      <td>2</td>\n",
       "      <td>3</td>\n",
       "      <td>3</td>\n",
       "      <td>465.0</td>\n",
       "      <td>0.0</td>\n",
       "      <td>1900-01-01 09:55:00</td>\n",
       "      <td>NaN</td>\n",
       "      <td>NaN</td>\n",
       "      <td>9</td>\n",
       "      <td>NaN</td>\n",
       "      <td>9.0</td>\n",
       "      <td>1.35</td>\n",
       "      <td>0.416667</td>\n",
       "      <td>0.0</td>\n",
       "      <td>09-16</td>\n",
       "      <td>21.6</td>\n",
       "      <td>66.0</td>\n",
       "      <td>1000.0</td>\n",
       "      <td>2.0</td>\n",
       "      <td>10143.0</td>\n",
       "      <td>10138.0</td>\n",
       "      <td>25.6</td>\n",
       "      <td>85.0</td>\n",
       "      <td>1000.0</td>\n",
       "      <td>5.0</td>\n",
       "      <td>10190.0</td>\n",
       "      <td>10187.0</td>\n",
       "      <td>0</td>\n",
       "    </tr>\n",
       "  </tbody>\n",
       "</table>\n",
       "</div>"
      ],
      "text/plain": [
       "          날짜 공항 상대공항 항공사      편명  출도착                계획시각  지연여부  지연확률 시간대  \\\n",
       "0 2019-09-16  2   12   7  1450.0  0.0 1900-01-01 09:05:00   NaN   NaN   9   \n",
       "1 2019-09-16  2   12   7  1454.0  0.0 1900-01-01 09:55:00   NaN   NaN   9   \n",
       "2 2019-09-16  2    6   1  1333.0  0.0 1900-01-01 09:25:00   NaN   NaN   9   \n",
       "3 2019-09-16  2   11   1  1319.0  0.0 1900-01-01 09:50:00   NaN   NaN   9   \n",
       "4 2019-09-16  2    3   3   465.0  0.0 1900-01-01 09:55:00   NaN   NaN   9   \n",
       "\n",
       "   편별지연비율    월    차이      차이누적  편별시간차이평균     월일  최저_기온  최저_습도   최저_시정  최저_풍속  \\\n",
       "0     NaN  9.0  1.35  0.416667       0.0  09-16   21.6   66.0  1000.0    2.0   \n",
       "1     NaN  9.0  1.35  0.416667       0.0  09-16   21.6   66.0  1000.0    2.0   \n",
       "2     NaN  9.0  1.35  0.416667       0.0  09-16   21.6   66.0  1000.0    2.0   \n",
       "3     NaN  9.0  1.35  0.416667       0.0  09-16   21.6   66.0  1000.0    2.0   \n",
       "4     NaN  9.0  1.35  0.416667       0.0  09-16   21.6   66.0  1000.0    2.0   \n",
       "\n",
       "   최저_해면기압  최저_현지기압  최고_기온  최고_습도   최고_시정  최고_풍속  최고_해면기압  최고_현지기압  편명별 지연율  \n",
       "0  10143.0  10138.0   25.6   85.0  1000.0    5.0  10190.0  10187.0        0  \n",
       "1  10143.0  10138.0   25.6   85.0  1000.0    5.0  10190.0  10187.0        0  \n",
       "2  10143.0  10138.0   25.6   85.0  1000.0    5.0  10190.0  10187.0        0  \n",
       "3  10143.0  10138.0   25.6   85.0  1000.0    5.0  10190.0  10187.0        0  \n",
       "4  10143.0  10138.0   25.6   85.0  1000.0    5.0  10190.0  10187.0        0  "
      ]
     },
     "execution_count": 155,
     "metadata": {},
     "output_type": "execute_result"
    }
   ],
   "source": [
    "data_AFSNT_DLY.head()"
   ]
  },
  {
   "cell_type": "markdown",
   "metadata": {},
   "source": [
    "---\n",
    "\n",
    "## Feature Selection"
   ]
  },
  {
   "cell_type": "code",
   "execution_count": 156,
   "metadata": {
    "ExecuteTime": {
     "end_time": "2019-09-08T13:13:21.538065Z",
     "start_time": "2019-09-08T13:12:36.411Z"
    }
   },
   "outputs": [],
   "source": [
    "col = ['공항','상대공항','항공사','편명','출도착','시간대','편명별 지연율'] # 등록기호,부정기편를 못 쓰네..."
   ]
  },
  {
   "cell_type": "markdown",
   "metadata": {},
   "source": [
    "---\n",
    "\n",
    "## Modelling"
   ]
  },
  {
   "cell_type": "markdown",
   "metadata": {},
   "source": [
    "### Split data into train and test"
   ]
  },
  {
   "cell_type": "code",
   "execution_count": 157,
   "metadata": {
    "ExecuteTime": {
     "end_time": "2019-09-08T13:13:21.539030Z",
     "start_time": "2019-09-08T13:12:36.417Z"
    }
   },
   "outputs": [],
   "source": [
    "X_train, X_test, y_train, y_test = train_test_split(data_AFSNT[col], # cancer_df.iloc[:,:-1] 혹은 cancer_df.drop('target',axis=1)\n",
    "                                                    data_AFSNT.지연여부, # cancer_df.target\n",
    "                                                    test_size=0.3)"
   ]
  },
  {
   "cell_type": "markdown",
   "metadata": {},
   "source": [
    "### Choose the Classifier_RandomForest"
   ]
  },
  {
   "cell_type": "code",
   "execution_count": 158,
   "metadata": {
    "ExecuteTime": {
     "end_time": "2019-09-08T13:13:21.539958Z",
     "start_time": "2019-09-08T13:12:36.423Z"
    }
   },
   "outputs": [],
   "source": [
    "# 랜덤포레스트 객체 생성\n",
    "model = RandomForestClassifier(n_estimators=300)"
   ]
  },
  {
   "cell_type": "markdown",
   "metadata": {},
   "source": [
    "### Over_sampling"
   ]
  },
  {
   "cell_type": "code",
   "execution_count": 159,
   "metadata": {
    "ExecuteTime": {
     "end_time": "2019-09-08T13:13:21.541577Z",
     "start_time": "2019-09-08T13:12:36.428Z"
    }
   },
   "outputs": [],
   "source": [
    "# 현재 타켓 데이터의 비율이 불균등한 상태이므로\n",
    "smote = SMOTE(random_state = 0)\n",
    "X_train_over, y_train_over = smote.fit_sample(X_train,y_train)"
   ]
  },
  {
   "cell_type": "markdown",
   "metadata": {},
   "source": [
    "### Trainging"
   ]
  },
  {
   "cell_type": "code",
   "execution_count": 160,
   "metadata": {
    "ExecuteTime": {
     "end_time": "2019-09-08T13:13:21.542571Z",
     "start_time": "2019-09-08T13:12:36.433Z"
    }
   },
   "outputs": [
    {
     "data": {
      "text/plain": [
       "RandomForestClassifier(bootstrap=True, class_weight=None, criterion='gini',\n",
       "            max_depth=None, max_features='auto', max_leaf_nodes=None,\n",
       "            min_impurity_decrease=0.0, min_impurity_split=None,\n",
       "            min_samples_leaf=1, min_samples_split=2,\n",
       "            min_weight_fraction_leaf=0.0, n_estimators=300, n_jobs=1,\n",
       "            oob_score=False, random_state=None, verbose=0,\n",
       "            warm_start=False)"
      ]
     },
     "execution_count": 160,
     "metadata": {},
     "output_type": "execute_result"
    }
   ],
   "source": [
    "model.fit(X_train_over,y_train_over)"
   ]
  },
  {
   "cell_type": "markdown",
   "metadata": {},
   "source": [
    "### Check feature importance"
   ]
  },
  {
   "cell_type": "code",
   "execution_count": 161,
   "metadata": {
    "ExecuteTime": {
     "end_time": "2019-09-08T13:13:21.543704Z",
     "start_time": "2019-09-08T13:12:36.437Z"
    }
   },
   "outputs": [
    {
     "data": {
      "text/html": [
       "<div>\n",
       "<style scoped>\n",
       "    .dataframe tbody tr th:only-of-type {\n",
       "        vertical-align: middle;\n",
       "    }\n",
       "\n",
       "    .dataframe tbody tr th {\n",
       "        vertical-align: top;\n",
       "    }\n",
       "\n",
       "    .dataframe thead th {\n",
       "        text-align: right;\n",
       "    }\n",
       "</style>\n",
       "<table border=\"1\" class=\"dataframe\">\n",
       "  <thead>\n",
       "    <tr style=\"text-align: right;\">\n",
       "      <th></th>\n",
       "      <th>중요도</th>\n",
       "    </tr>\n",
       "  </thead>\n",
       "  <tbody>\n",
       "    <tr>\n",
       "      <th>공항</th>\n",
       "      <td>0.033828</td>\n",
       "    </tr>\n",
       "    <tr>\n",
       "      <th>상대공항</th>\n",
       "      <td>0.020964</td>\n",
       "    </tr>\n",
       "    <tr>\n",
       "      <th>항공사</th>\n",
       "      <td>0.024490</td>\n",
       "    </tr>\n",
       "    <tr>\n",
       "      <th>편명</th>\n",
       "      <td>0.064737</td>\n",
       "    </tr>\n",
       "    <tr>\n",
       "      <th>출도착</th>\n",
       "      <td>0.278280</td>\n",
       "    </tr>\n",
       "    <tr>\n",
       "      <th>시간대</th>\n",
       "      <td>0.196012</td>\n",
       "    </tr>\n",
       "    <tr>\n",
       "      <th>편명별 지연율</th>\n",
       "      <td>0.381688</td>\n",
       "    </tr>\n",
       "  </tbody>\n",
       "</table>\n",
       "</div>"
      ],
      "text/plain": [
       "              중요도\n",
       "공항       0.033828\n",
       "상대공항     0.020964\n",
       "항공사      0.024490\n",
       "편명       0.064737\n",
       "출도착      0.278280\n",
       "시간대      0.196012\n",
       "편명별 지연율  0.381688"
      ]
     },
     "execution_count": 161,
     "metadata": {},
     "output_type": "execute_result"
    }
   ],
   "source": [
    "imp_data = pd.DataFrame(model.feature_importances_, index = X_train.columns,columns=['중요도'])\n",
    "imp_data"
   ]
  },
  {
   "cell_type": "code",
   "execution_count": 162,
   "metadata": {
    "ExecuteTime": {
     "end_time": "2019-09-08T13:13:21.544774Z",
     "start_time": "2019-09-08T13:12:36.440Z"
    }
   },
   "outputs": [
    {
     "data": {
      "image/png": "[encoded data removed]",
      "text/plain": [
       "<Figure size 432x288 with 1 Axes>"
      ]
     },
     "metadata": {},
     "output_type": "display_data"
    }
   ],
   "source": [
    "imp_data.sort_values(by='중요도').plot(kind='barh')\n",
    "plt.show()"
   ]
  },
  {
   "cell_type": "markdown",
   "metadata": {},
   "source": [
    "---\n",
    "\n",
    "## Testing"
   ]
  },
  {
   "cell_type": "markdown",
   "metadata": {},
   "source": [
    "### Scoring"
   ]
  },
  {
   "cell_type": "code",
   "execution_count": 163,
   "metadata": {
    "ExecuteTime": {
     "end_time": "2019-09-08T13:13:21.545943Z",
     "start_time": "2019-09-08T13:12:36.446Z"
    }
   },
   "outputs": [
    {
     "data": {
      "text/plain": [
       "69.604"
      ]
     },
     "execution_count": 163,
     "metadata": {},
     "output_type": "execute_result"
    }
   ],
   "source": [
    "score = round(model.score(X_test,y_test) *100,3)\n",
    "score"
   ]
  },
  {
   "cell_type": "markdown",
   "metadata": {},
   "source": [
    "### Forecasting"
   ]
  },
  {
   "cell_type": "code",
   "execution_count": 164,
   "metadata": {
    "ExecuteTime": {
     "end_time": "2019-09-08T13:13:21.546924Z",
     "start_time": "2019-09-08T13:12:36.451Z"
    }
   },
   "outputs": [],
   "source": [
    "y_pred = model.predict(data_AFSNT_DLY[col])"
   ]
  },
  {
   "cell_type": "code",
   "execution_count": 165,
   "metadata": {
    "ExecuteTime": {
     "end_time": "2019-09-08T13:13:21.548251Z",
     "start_time": "2019-09-08T13:12:36.455Z"
    }
   },
   "outputs": [
    {
     "data": {
      "text/plain": [
       "0.0    100.0\n",
       "dtype: float64"
      ]
     },
     "execution_count": 165,
     "metadata": {},
     "output_type": "execute_result"
    }
   ],
   "source": [
    "pd.Series(y_pred).value_counts() / len(y_pred) * 100"
   ]
  },
  {
   "cell_type": "markdown",
   "metadata": {},
   "source": [
    "---\n",
    "\n",
    "## Reference\n",
    "\n",
    "### 항공기 정의 관련\n",
    "- https://m.blog.naver.com/PostView.nhn?blogId=ijcho99&logNo=140069453089&proxyReferer=https%3A%2F%2Fwww.google.com%2F\n",
    "\n",
    "### 항공기 지연 관련\n",
    "- https://thebluesky.info/200\n",
    "- https://m.blog.naver.com/PostView.nhn?blogId=kma_131&logNo=221309094506&proxyReferer=https%3A%2F%2Fwww.google.com%2F\n",
    "- https://www.airport.co.kr/www/extra/stats/delayStats/layOut.do?cid=2015102917524762804&menuId=406"
   ]
  }
 ],
 "metadata": {
  "kernelspec": {
   "display_name": "Python 3",
   "language": "python",
   "name": "python3"
  },
  "language_info": {
   "codemirror_mode": {
    "name": "ipython",
    "version": 3
   },
   "file_extension": ".py",
   "mimetype": "text/x-python",
   "name": "python",
   "nbconvert_exporter": "python",
   "pygments_lexer": "ipython3",
   "version": "3.6.4"
  },
  "toc": {
   "base_numbering": 1,
   "nav_menu": {},
   "number_sections": true,
   "sideBar": true,
   "skip_h1_title": true,
   "title_cell": "목차",
   "title_sidebar": "2019 빅콘테스트 퓨처스 리그",
   "toc_cell": true,
   "toc_position": {
    "height": "calc(100% - 180px)",
    "left": "10px",
    "top": "150px",
    "width": "336px"
   },
   "toc_section_display": true,
   "toc_window_display": true
  }
 },
 "nbformat": 4,
 "nbformat_minor": 2
}
